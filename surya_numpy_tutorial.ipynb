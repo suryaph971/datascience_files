{
 "cells": [
  {
   "cell_type": "code",
   "execution_count": 1,
   "metadata": {},
   "outputs": [
    {
     "name": "stdout",
     "output_type": "stream",
     "text": [
      "0 Surya\n",
      "1 Varun\n",
      "2 Kanth\n"
     ]
    }
   ],
   "source": [
    "l=[\"Surya\",\"Varun\",\"Kanth\"]\n",
    "for i,j in enumerate(l):\n",
    "    print(i,j,sep=\" \")"
   ]
  },
  {
   "cell_type": "code",
   "execution_count": 2,
   "metadata": {},
   "outputs": [
    {
     "name": "stdout",
     "output_type": "stream",
     "text": [
      "{0: 'Surya', 1: 'Varun', 2: 'Kanth'}\n"
     ]
    }
   ],
   "source": [
    "li=dict((i,j) for i,j in enumerate(l))\n",
    "print(li)"
   ]
  },
  {
   "cell_type": "code",
   "execution_count": 3,
   "metadata": {},
   "outputs": [
    {
     "name": "stdout",
     "output_type": "stream",
     "text": [
      "Hello world\n"
     ]
    }
   ],
   "source": [
    "print(\"Hello world\")"
   ]
  },
  {
   "cell_type": "code",
   "execution_count": 11,
   "metadata": {},
   "outputs": [
    {
     "data": {
      "text/plain": [
       "array([10.,  5.,  5., 14.])"
      ]
     },
     "execution_count": 11,
     "metadata": {},
     "output_type": "execute_result"
    }
   ],
   "source": [
    "import numpy as np\n",
    "dist=[20,30,40,70]\n",
    "time=[2,6,8,5]\n",
    "np_dist=np.array(dist)\n",
    "np_time=np.array(time)\n",
    "np_speed=np_dist/np_time\n",
    "np_speed"
   ]
  },
  {
   "cell_type": "code",
   "execution_count": 12,
   "metadata": {},
   "outputs": [
    {
     "data": {
      "text/plain": [
       "array([1, 2, 3, 4])"
      ]
     },
     "execution_count": 12,
     "metadata": {},
     "output_type": "execute_result"
    }
   ],
   "source": [
    "firstarray=np.array([1,2,3,4])\n",
    "firstarray"
   ]
  },
  {
   "cell_type": "code",
   "execution_count": 13,
   "metadata": {},
   "outputs": [
    {
     "data": {
      "text/plain": [
       "array([[0., 0., 0.],\n",
       "       [0., 0., 0.],\n",
       "       [0., 0., 0.]])"
      ]
     },
     "execution_count": 13,
     "metadata": {},
     "output_type": "execute_result"
    }
   ],
   "source": [
    "zeroarray=np.zeros((3,3))\n",
    "zeroarray"
   ]
  },
  {
   "cell_type": "code",
   "execution_count": 14,
   "metadata": {},
   "outputs": [
    {
     "data": {
      "text/plain": [
       "array([[1., 1.],\n",
       "       [1., 1.]])"
      ]
     },
     "execution_count": 14,
     "metadata": {},
     "output_type": "execute_result"
    }
   ],
   "source": [
    "onearray=np.ones((2,2))\n",
    "onearray"
   ]
  },
  {
   "cell_type": "code",
   "execution_count": 17,
   "metadata": {},
   "outputs": [
    {
     "data": {
      "text/plain": [
       "array([[0., 0., 0.],\n",
       "       [0., 0., 0.]])"
      ]
     },
     "execution_count": 17,
     "metadata": {},
     "output_type": "execute_result"
    }
   ],
   "source": [
    "emptyarray=np.empty((2,3))\n",
    "emptyarray"
   ]
  },
  {
   "cell_type": "code",
   "execution_count": 24,
   "metadata": {},
   "outputs": [
    {
     "data": {
      "text/plain": [
       "array([ 1.,  4.,  7., 10.])"
      ]
     },
     "execution_count": 24,
     "metadata": {},
     "output_type": "execute_result"
    }
   ],
   "source": [
    "linspace=np.linspace(1,10,4)\n",
    "linspace"
   ]
  },
  {
   "cell_type": "code",
   "execution_count": 31,
   "metadata": {},
   "outputs": [
    {
     "data": {
      "text/plain": [
       "3"
      ]
     },
     "execution_count": 31,
     "metadata": {},
     "output_type": "execute_result"
    }
   ],
   "source": [
    "array=np.arange(27).reshape(3,3,3)\n",
    "np.ndim(array)"
   ]
  },
  {
   "cell_type": "code",
   "execution_count": 38,
   "metadata": {},
   "outputs": [
    {
     "data": {
      "text/plain": [
       "12"
      ]
     },
     "execution_count": 38,
     "metadata": {},
     "output_type": "execute_result"
    }
   ],
   "source": [
    "array=np.arange(12).reshape(3,4)\n",
    "np.shape(array)\n",
    "np.size(array)"
   ]
  },
  {
   "cell_type": "code",
   "execution_count": 40,
   "metadata": {},
   "outputs": [
    {
     "data": {
      "text/plain": [
       "dtype('int32')"
      ]
     },
     "execution_count": 40,
     "metadata": {},
     "output_type": "execute_result"
    }
   ],
   "source": [
    "arr=np.arange(9)\n",
    "arr.dtype"
   ]
  },
  {
   "cell_type": "code",
   "execution_count": 41,
   "metadata": {},
   "outputs": [
    {
     "data": {
      "text/plain": [
       "44"
      ]
     },
     "execution_count": 41,
     "metadata": {},
     "output_type": "execute_result"
    }
   ],
   "source": [
    "np.add(12,32)"
   ]
  },
  {
   "cell_type": "code",
   "execution_count": 43,
   "metadata": {},
   "outputs": [
    {
     "data": {
      "text/plain": [
       "10"
      ]
     },
     "execution_count": 43,
     "metadata": {},
     "output_type": "execute_result"
    }
   ],
   "source": [
    "abs(np.subtract(35,45))"
   ]
  },
  {
   "cell_type": "code",
   "execution_count": 45,
   "metadata": {},
   "outputs": [
    {
     "name": "stdout",
     "output_type": "stream",
     "text": [
      "[ 1500  2250  1800  6750 11250]\n",
      "23550\n"
     ]
    }
   ],
   "source": [
    "nd_cost=np.array([10,15,12,45,75])*150\n",
    "print(nd_cost)\n",
    "print(sum(nd_cost))"
   ]
  },
  {
   "cell_type": "code",
   "execution_count": 51,
   "metadata": {},
   "outputs": [
    {
     "name": "stdout",
     "output_type": "stream",
     "text": [
      "[27, 33, 45]\n",
      "[15 45 33 27]\n",
      "[15]\n"
     ]
    }
   ],
   "source": [
    "#using greater than\n",
    "vegetable_costs=np.array([15,25,45,33,27])\n",
    "arr=sorted(vegetable_costs[vegetable_costs>25])\n",
    "print(arr)\n",
    "#using not equal to\n",
    "print(vegetable_costs[vegetable_costs!=25])\n",
    "#using less than\n",
    "print(vegetable_costs[vegetable_costs<25])\n"
   ]
  },
  {
   "cell_type": "code",
   "execution_count": 56,
   "metadata": {},
   "outputs": [
    {
     "data": {
      "text/plain": [
       "array([ True,  True, False,  True, False])"
      ]
     },
     "execution_count": 56,
     "metadata": {},
     "output_type": "execute_result"
    }
   ],
   "source": [
    "#using logical operations\n",
    "weekly_hrs=np.array([35,30,55,45,60])\n",
    "np.logical_and(weekly_hrs>30,weekly_hrs<50)\n",
    "np.logical_or(weekly_hrs>30,weekly_hrs<50)\n",
    "np.logical_not(weekly_hrs>45)"
   ]
  },
  {
   "cell_type": "code",
   "execution_count": 62,
   "metadata": {},
   "outputs": [
    {
     "name": "stdout",
     "output_type": "stream",
     "text": [
      "[[ 0  1  2  3  4]\n",
      " [ 5  6  7  8  9]\n",
      " [10 11 12 13 14]]\n",
      "[[ 1  2  3  4]\n",
      " [ 6  7  8  9]\n",
      " [11 12 13 14]]\n"
     ]
    }
   ],
   "source": [
    "array=np.arange(15).reshape(3,5)\n",
    "print(array)\n",
    "print(array[:, 1:5])"
   ]
  },
  {
   "cell_type": "code",
   "execution_count": 98,
   "metadata": {},
   "outputs": [
    {
     "name": "stdout",
     "output_type": "stream",
     "text": [
      "[[[ 0  1  2]\n",
      "  [ 3  4  5]\n",
      "  [ 6  7  8]]\n",
      "\n",
      " [[ 9 10 11]\n",
      "  [12 13 14]\n",
      "  [15 16 17]]\n",
      "\n",
      " [[18 19 20]\n",
      "  [21 22 23]\n",
      "  [24 25 26]]]\n",
      "[[[ 3  4  5]\n",
      "  [ 6  7  8]]\n",
      "\n",
      " [[12 13 14]\n",
      "  [15 16 17]]\n",
      "\n",
      " [[21 22 23]\n",
      "  [24 25 26]]]\n"
     ]
    }
   ],
   "source": [
    "array1=np.arange(27).reshape(3,3,3)\n",
    "print(array1)\n",
    "print(array1[:,1:3:])"
   ]
  },
  {
   "cell_type": "code",
   "execution_count": 68,
   "metadata": {},
   "outputs": [
    {
     "name": "stdout",
     "output_type": "stream",
     "text": [
      "[1 2 4]\n",
      "[1 2 4]\n"
     ]
    }
   ],
   "source": [
    "#using shallow copy\n",
    "l=np.array([1,2,3])\n",
    "l1=l.view()\n",
    "l1[2]=4\n",
    "print(l1)\n",
    "print(l)"
   ]
  },
  {
   "cell_type": "code",
   "execution_count": 69,
   "metadata": {},
   "outputs": [
    {
     "name": "stdout",
     "output_type": "stream",
     "text": [
      "[1 2 3 5]\n",
      "[1 2 3 4]\n"
     ]
    }
   ],
   "source": [
    "#using deep copy\n",
    "l=np.array([1,2,3,4])\n",
    "l1=l.copy()\n",
    "l1[3]=5\n",
    "print(l1)\n",
    "print(l)"
   ]
  },
  {
   "cell_type": "code",
   "execution_count": 101,
   "metadata": {},
   "outputs": [
    {
     "name": "stdout",
     "output_type": "stream",
     "text": [
      "[ 0  1  2  3  4  5  6  7  8  9 10 11 12 13 14]\n",
      "[array([[1, 2],\n",
      "       [5, 6]]), array([[3, 4],\n",
      "       [7, 8]])]\n",
      "[array([[1, 2, 3, 4]]), array([[5, 6, 7, 8]])]\n",
      "[1 2 3 4 5 6 7 8]\n",
      "[[1 2 3 4]\n",
      " [5 6 7 8]]\n"
     ]
    }
   ],
   "source": [
    "#shape manipulation\n",
    "array=np.arange(15)\n",
    "arr_flatten=array.ravel()\n",
    "print(arr_flatten)\n",
    "array1=np.array([[1,2,3,4],[5,6,7,8]])\n",
    "print(np.hsplit(array1,2))\n",
    "print(np.vsplit(array1,2))\n",
    "arr1=np.array([1,2,3,4])\n",
    "arr2=np.array([5,6,7,8])\n",
    "print(np.hstack((arr1,arr2)))\n",
    "print(np.vstack((arr1,arr2)))"
   ]
  },
  {
   "cell_type": "code",
   "execution_count": 88,
   "metadata": {},
   "outputs": [
    {
     "data": {
      "text/plain": [
       "5"
      ]
     },
     "execution_count": 88,
     "metadata": {},
     "output_type": "execute_result"
    }
   ],
   "source": [
    "#inverse and trace\n",
    "array=np.array([[1,2],[3,4]])\n",
    "np.linalg.inv(array)\n",
    "np.trace(array)"
   ]
  },
  {
   "cell_type": "code",
   "execution_count": 89,
   "metadata": {},
   "outputs": [
    {
     "data": {
      "text/plain": [
       "array([1, 2])"
      ]
     },
     "execution_count": 89,
     "metadata": {},
     "output_type": "execute_result"
    }
   ],
   "source": [
    "arr=np.array([1,2])\n",
    "np.transpose(arr)"
   ]
  },
  {
   "cell_type": "code",
   "execution_count": 96,
   "metadata": {},
   "outputs": [
    {
     "name": "stdout",
     "output_type": "stream",
     "text": [
      "[[19 22]\n",
      " [43 50]]\n"
     ]
    },
    {
     "data": {
      "text/plain": [
       "2.5"
      ]
     },
     "execution_count": 96,
     "metadata": {},
     "output_type": "execute_result"
    }
   ],
   "source": [
    "#matrix multiplication\n",
    "a=np.array([[1,2],[3,4]])\n",
    "b=np.array([[5,6],[7,8]])\n",
    "print(a.dot(b))\n",
    "np.std(a)\n",
    "np.var(a)\n",
    "np.mean(a)"
   ]
  },
  {
   "cell_type": "code",
   "execution_count": 102,
   "metadata": {},
   "outputs": [
    {
     "data": {
      "text/plain": [
       "array([[0, 1, 2, 3, 4],\n",
       "       [5, 6, 7, 8, 9]])"
      ]
     },
     "execution_count": 102,
     "metadata": {},
     "output_type": "execute_result"
    }
   ],
   "source": [
    "a=np.arange(10).reshape(2,5)\n",
    "a"
   ]
  },
  {
   "cell_type": "code",
   "execution_count": 104,
   "metadata": {},
   "outputs": [
    {
     "name": "stdout",
     "output_type": "stream",
     "text": [
      "[[False False False False False]\n",
      " [ True  True  True  True  True]]\n"
     ]
    }
   ],
   "source": [
    "print(a>4)"
   ]
  },
  {
   "cell_type": "code",
   "execution_count": 113,
   "metadata": {},
   "outputs": [
    {
     "name": "stdout",
     "output_type": "stream",
     "text": [
      "[0 1 2 3]\n",
      "[4 5 6 7]\n",
      "[ 8  9 10 11]\n"
     ]
    }
   ],
   "source": [
    "a=np.arange(12).reshape(3,4)\n",
    "for i in a:\n",
    "    print(i)"
   ]
  },
  {
   "cell_type": "code",
   "execution_count": 115,
   "metadata": {},
   "outputs": [
    {
     "name": "stdout",
     "output_type": "stream",
     "text": [
      "0 1 2 3 4 5 6 7 8 9 10 11 "
     ]
    }
   ],
   "source": [
    "#using nditer\n",
    "for i in np.nditer(a,order=\"C\"):\n",
    "    print(i,end=\" \")"
   ]
  },
  {
   "cell_type": "code",
   "execution_count": 116,
   "metadata": {},
   "outputs": [
    {
     "name": "stdout",
     "output_type": "stream",
     "text": [
      "0 4 8 1 5 9 2 6 10 3 7 11 "
     ]
    }
   ],
   "source": [
    "#using forton order\n",
    "for i in np.nditer(a,order=\"F\"):\n",
    "    print(i,end=\" \")"
   ]
  },
  {
   "cell_type": "code",
   "execution_count": 117,
   "metadata": {},
   "outputs": [
    {
     "name": "stdout",
     "output_type": "stream",
     "text": [
      "[0 4 8] [1 5 9] [ 2  6 10] [ 3  7 11] "
     ]
    }
   ],
   "source": [
    "for i in np.nditer(a,order=\"F\",flags=['external_loop']):\n",
    "    print(i,end=\" \")"
   ]
  },
  {
   "cell_type": "code",
   "execution_count": 118,
   "metadata": {},
   "outputs": [
    {
     "data": {
      "text/plain": [
       "array([[  0,   1,   4,   9],\n",
       "       [ 16,  25,  36,  49],\n",
       "       [ 64,  81, 100, 121]])"
      ]
     },
     "execution_count": 118,
     "metadata": {},
     "output_type": "execute_result"
    }
   ],
   "source": [
    "for i in np.nditer(a,op_flags=['readwrite']):\n",
    "    i[...]=i*i\n",
    "a"
   ]
  },
  {
   "cell_type": "code",
   "execution_count": 119,
   "metadata": {},
   "outputs": [
    {
     "data": {
      "text/plain": [
       "array([[ 3],\n",
       "       [ 7],\n",
       "       [11]])"
      ]
     },
     "execution_count": 119,
     "metadata": {},
     "output_type": "execute_result"
    }
   ],
   "source": [
    "b=np.arange(3,15,4).reshape(3,1)\n",
    "b"
   ]
  },
  {
   "cell_type": "code",
   "execution_count": 121,
   "metadata": {},
   "outputs": [
    {
     "name": "stdout",
     "output_type": "stream",
     "text": [
      "0 3\n",
      "1 3\n",
      "4 3\n",
      "9 3\n",
      "16 7\n",
      "25 7\n",
      "36 7\n",
      "49 7\n",
      "64 11\n",
      "81 11\n",
      "100 11\n",
      "121 11\n"
     ]
    }
   ],
   "source": [
    "#iterating two arrays simultaneously\n",
    "for i,j in np.nditer([a,b]):\n",
    "    print(i,j)"
   ]
  },
  {
   "cell_type": "code",
   "execution_count": 8,
   "metadata": {},
   "outputs": [
    {
     "data": {
      "text/html": [
       "<div>\n",
       "<style scoped>\n",
       "    .dataframe tbody tr th:only-of-type {\n",
       "        vertical-align: middle;\n",
       "    }\n",
       "\n",
       "    .dataframe tbody tr th {\n",
       "        vertical-align: top;\n",
       "    }\n",
       "\n",
       "    .dataframe thead th {\n",
       "        text-align: right;\n",
       "    }\n",
       "</style>\n",
       "<table border=\"1\" class=\"dataframe\">\n",
       "  <thead>\n",
       "    <tr style=\"text-align: right;\">\n",
       "      <th></th>\n",
       "      <th>Country</th>\n",
       "      <th>Country Code</th>\n",
       "      <th>1990</th>\n",
       "      <th>1991</th>\n",
       "      <th>1992</th>\n",
       "      <th>1993</th>\n",
       "      <th>1994</th>\n",
       "      <th>1995</th>\n",
       "      <th>1996</th>\n",
       "      <th>1997</th>\n",
       "      <th>...</th>\n",
       "      <th>2010</th>\n",
       "      <th>2011</th>\n",
       "      <th>2012</th>\n",
       "      <th>2013</th>\n",
       "      <th>2014</th>\n",
       "      <th>2015</th>\n",
       "      <th>2016</th>\n",
       "      <th>2017</th>\n",
       "      <th>2018</th>\n",
       "      <th>2019</th>\n",
       "    </tr>\n",
       "  </thead>\n",
       "  <tbody>\n",
       "    <tr>\n",
       "      <th>0</th>\n",
       "      <td>Aruba</td>\n",
       "      <td>ABW</td>\n",
       "      <td>24101.109430</td>\n",
       "      <td>25870.755940</td>\n",
       "      <td>26533.343900</td>\n",
       "      <td>27430.752400</td>\n",
       "      <td>28656.520210</td>\n",
       "      <td>28648.990020</td>\n",
       "      <td>28499.089430</td>\n",
       "      <td>30215.949230</td>\n",
       "      <td>...</td>\n",
       "      <td>33732.847450</td>\n",
       "      <td>35492.618490</td>\n",
       "      <td>35498.982090</td>\n",
       "      <td>37419.892820</td>\n",
       "      <td>38223.372260</td>\n",
       "      <td>38249.054870</td>\n",
       "      <td>38390.271650</td>\n",
       "      <td>39454.629830</td>\n",
       "      <td>NaN</td>\n",
       "      <td>NaN</td>\n",
       "    </tr>\n",
       "    <tr>\n",
       "      <th>1</th>\n",
       "      <td>Afghanistan</td>\n",
       "      <td>AFG</td>\n",
       "      <td>NaN</td>\n",
       "      <td>NaN</td>\n",
       "      <td>NaN</td>\n",
       "      <td>NaN</td>\n",
       "      <td>NaN</td>\n",
       "      <td>NaN</td>\n",
       "      <td>NaN</td>\n",
       "      <td>NaN</td>\n",
       "      <td>...</td>\n",
       "      <td>1637.377987</td>\n",
       "      <td>1626.764793</td>\n",
       "      <td>1806.763930</td>\n",
       "      <td>1874.765634</td>\n",
       "      <td>1897.525938</td>\n",
       "      <td>1886.692977</td>\n",
       "      <td>1896.992520</td>\n",
       "      <td>1934.636754</td>\n",
       "      <td>1955.006208</td>\n",
       "      <td>NaN</td>\n",
       "    </tr>\n",
       "    <tr>\n",
       "      <th>2</th>\n",
       "      <td>Angola</td>\n",
       "      <td>AGO</td>\n",
       "      <td>3089.683369</td>\n",
       "      <td>3120.356148</td>\n",
       "      <td>2908.160798</td>\n",
       "      <td>2190.768160</td>\n",
       "      <td>2195.532289</td>\n",
       "      <td>2496.199493</td>\n",
       "      <td>2794.896906</td>\n",
       "      <td>2953.342709</td>\n",
       "      <td>...</td>\n",
       "      <td>6230.297028</td>\n",
       "      <td>6346.395122</td>\n",
       "      <td>6772.528333</td>\n",
       "      <td>6980.423038</td>\n",
       "      <td>7199.245478</td>\n",
       "      <td>7096.600615</td>\n",
       "      <td>6756.935074</td>\n",
       "      <td>6650.584940</td>\n",
       "      <td>6452.355165</td>\n",
       "      <td>NaN</td>\n",
       "    </tr>\n",
       "    <tr>\n",
       "      <th>3</th>\n",
       "      <td>Albania</td>\n",
       "      <td>ALB</td>\n",
       "      <td>2549.473022</td>\n",
       "      <td>1909.114038</td>\n",
       "      <td>1823.307673</td>\n",
       "      <td>2057.449657</td>\n",
       "      <td>2289.873135</td>\n",
       "      <td>2665.764906</td>\n",
       "      <td>2980.066288</td>\n",
       "      <td>2717.362124</td>\n",
       "      <td>...</td>\n",
       "      <td>9628.025783</td>\n",
       "      <td>10207.752350</td>\n",
       "      <td>10526.235450</td>\n",
       "      <td>10571.010650</td>\n",
       "      <td>11259.225890</td>\n",
       "      <td>11662.030480</td>\n",
       "      <td>11868.178970</td>\n",
       "      <td>12930.140030</td>\n",
       "      <td>13364.155400</td>\n",
       "      <td>NaN</td>\n",
       "    </tr>\n",
       "    <tr>\n",
       "      <th>4</th>\n",
       "      <td>Arab World</td>\n",
       "      <td>ARB</td>\n",
       "      <td>6808.206995</td>\n",
       "      <td>6872.273195</td>\n",
       "      <td>7255.328362</td>\n",
       "      <td>7458.647059</td>\n",
       "      <td>7645.682856</td>\n",
       "      <td>7774.207360</td>\n",
       "      <td>8094.149842</td>\n",
       "      <td>8397.515692</td>\n",
       "      <td>...</td>\n",
       "      <td>14127.778020</td>\n",
       "      <td>14518.827450</td>\n",
       "      <td>15423.465390</td>\n",
       "      <td>15824.780110</td>\n",
       "      <td>16153.244860</td>\n",
       "      <td>16501.792590</td>\n",
       "      <td>16935.383300</td>\n",
       "      <td>17099.889390</td>\n",
       "      <td>17570.137600</td>\n",
       "      <td>NaN</td>\n",
       "    </tr>\n",
       "    <tr>\n",
       "      <th>...</th>\n",
       "      <td>...</td>\n",
       "      <td>...</td>\n",
       "      <td>...</td>\n",
       "      <td>...</td>\n",
       "      <td>...</td>\n",
       "      <td>...</td>\n",
       "      <td>...</td>\n",
       "      <td>...</td>\n",
       "      <td>...</td>\n",
       "      <td>...</td>\n",
       "      <td>...</td>\n",
       "      <td>...</td>\n",
       "      <td>...</td>\n",
       "      <td>...</td>\n",
       "      <td>...</td>\n",
       "      <td>...</td>\n",
       "      <td>...</td>\n",
       "      <td>...</td>\n",
       "      <td>...</td>\n",
       "      <td>...</td>\n",
       "      <td>...</td>\n",
       "    </tr>\n",
       "    <tr>\n",
       "      <th>255</th>\n",
       "      <td>Kosovo</td>\n",
       "      <td>XKX</td>\n",
       "      <td>NaN</td>\n",
       "      <td>NaN</td>\n",
       "      <td>NaN</td>\n",
       "      <td>NaN</td>\n",
       "      <td>NaN</td>\n",
       "      <td>NaN</td>\n",
       "      <td>NaN</td>\n",
       "      <td>NaN</td>\n",
       "      <td>...</td>\n",
       "      <td>7782.875107</td>\n",
       "      <td>8222.285712</td>\n",
       "      <td>8547.652384</td>\n",
       "      <td>8903.763429</td>\n",
       "      <td>9194.741819</td>\n",
       "      <td>9781.019679</td>\n",
       "      <td>10208.857900</td>\n",
       "      <td>10756.663460</td>\n",
       "      <td>11348.363450</td>\n",
       "      <td>NaN</td>\n",
       "    </tr>\n",
       "    <tr>\n",
       "      <th>256</th>\n",
       "      <td>Yemen, Rep.</td>\n",
       "      <td>YEM</td>\n",
       "      <td>2223.028771</td>\n",
       "      <td>2325.263661</td>\n",
       "      <td>2443.920401</td>\n",
       "      <td>2472.188808</td>\n",
       "      <td>2569.648739</td>\n",
       "      <td>2657.813447</td>\n",
       "      <td>2730.145147</td>\n",
       "      <td>2829.866193</td>\n",
       "      <td>...</td>\n",
       "      <td>4472.726448</td>\n",
       "      <td>3876.302619</td>\n",
       "      <td>3935.167105</td>\n",
       "      <td>4084.882967</td>\n",
       "      <td>4045.500031</td>\n",
       "      <td>3320.110156</td>\n",
       "      <td>2827.691023</td>\n",
       "      <td>2645.308383</td>\n",
       "      <td>2575.126385</td>\n",
       "      <td>NaN</td>\n",
       "    </tr>\n",
       "    <tr>\n",
       "      <th>257</th>\n",
       "      <td>South Africa</td>\n",
       "      <td>ZAF</td>\n",
       "      <td>6424.502215</td>\n",
       "      <td>6414.057923</td>\n",
       "      <td>6261.716184</td>\n",
       "      <td>6331.777580</td>\n",
       "      <td>6520.866604</td>\n",
       "      <td>6719.583315</td>\n",
       "      <td>7000.801619</td>\n",
       "      <td>7179.806651</td>\n",
       "      <td>...</td>\n",
       "      <td>11728.160490</td>\n",
       "      <td>12179.174190</td>\n",
       "      <td>12488.215570</td>\n",
       "      <td>12815.727070</td>\n",
       "      <td>13090.476830</td>\n",
       "      <td>13185.253280</td>\n",
       "      <td>13188.029620</td>\n",
       "      <td>13438.282890</td>\n",
       "      <td>13686.882360</td>\n",
       "      <td>NaN</td>\n",
       "    </tr>\n",
       "    <tr>\n",
       "      <th>258</th>\n",
       "      <td>Zambia</td>\n",
       "      <td>ZMB</td>\n",
       "      <td>1517.926292</td>\n",
       "      <td>1528.781247</td>\n",
       "      <td>1499.340446</td>\n",
       "      <td>1600.347799</td>\n",
       "      <td>1457.627696</td>\n",
       "      <td>1493.123972</td>\n",
       "      <td>1572.973238</td>\n",
       "      <td>1616.492883</td>\n",
       "      <td>...</td>\n",
       "      <td>3269.794329</td>\n",
       "      <td>3419.010460</td>\n",
       "      <td>3634.780353</td>\n",
       "      <td>3765.584162</td>\n",
       "      <td>3893.549478</td>\n",
       "      <td>3927.761816</td>\n",
       "      <td>3998.004435</td>\n",
       "      <td>4090.120040</td>\n",
       "      <td>4223.906936</td>\n",
       "      <td>NaN</td>\n",
       "    </tr>\n",
       "    <tr>\n",
       "      <th>259</th>\n",
       "      <td>Zimbabwe</td>\n",
       "      <td>ZWE</td>\n",
       "      <td>1829.677575</td>\n",
       "      <td>1949.732966</td>\n",
       "      <td>1777.843425</td>\n",
       "      <td>1807.225700</td>\n",
       "      <td>1986.028160</td>\n",
       "      <td>2004.362417</td>\n",
       "      <td>2227.060619</td>\n",
       "      <td>2303.829588</td>\n",
       "      <td>...</td>\n",
       "      <td>1888.566739</td>\n",
       "      <td>2168.110293</td>\n",
       "      <td>2534.541919</td>\n",
       "      <td>2583.985638</td>\n",
       "      <td>2648.568967</td>\n",
       "      <td>2679.580317</td>\n",
       "      <td>2687.385429</td>\n",
       "      <td>2825.725122</td>\n",
       "      <td>3029.793005</td>\n",
       "      <td>NaN</td>\n",
       "    </tr>\n",
       "  </tbody>\n",
       "</table>\n",
       "<p>260 rows × 32 columns</p>\n",
       "</div>"
      ],
      "text/plain": [
       "         Country  Country Code          1990          1991          1992  \\\n",
       "0           Aruba          ABW  24101.109430  25870.755940  26533.343900   \n",
       "1     Afghanistan          AFG           NaN           NaN           NaN   \n",
       "2          Angola          AGO   3089.683369   3120.356148   2908.160798   \n",
       "3         Albania          ALB   2549.473022   1909.114038   1823.307673   \n",
       "4      Arab World          ARB   6808.206995   6872.273195   7255.328362   \n",
       "..            ...          ...           ...           ...           ...   \n",
       "255        Kosovo          XKX           NaN           NaN           NaN   \n",
       "256   Yemen, Rep.          YEM   2223.028771   2325.263661   2443.920401   \n",
       "257  South Africa          ZAF   6424.502215   6414.057923   6261.716184   \n",
       "258        Zambia          ZMB   1517.926292   1528.781247   1499.340446   \n",
       "259      Zimbabwe          ZWE   1829.677575   1949.732966   1777.843425   \n",
       "\n",
       "             1993          1994          1995          1996          1997  \\\n",
       "0    27430.752400  28656.520210  28648.990020  28499.089430  30215.949230   \n",
       "1             NaN           NaN           NaN           NaN           NaN   \n",
       "2     2190.768160   2195.532289   2496.199493   2794.896906   2953.342709   \n",
       "3     2057.449657   2289.873135   2665.764906   2980.066288   2717.362124   \n",
       "4     7458.647059   7645.682856   7774.207360   8094.149842   8397.515692   \n",
       "..            ...           ...           ...           ...           ...   \n",
       "255           NaN           NaN           NaN           NaN           NaN   \n",
       "256   2472.188808   2569.648739   2657.813447   2730.145147   2829.866193   \n",
       "257   6331.777580   6520.866604   6719.583315   7000.801619   7179.806651   \n",
       "258   1600.347799   1457.627696   1493.123972   1572.973238   1616.492883   \n",
       "259   1807.225700   1986.028160   2004.362417   2227.060619   2303.829588   \n",
       "\n",
       "     ...          2010          2011          2012          2013  \\\n",
       "0    ...  33732.847450  35492.618490  35498.982090  37419.892820   \n",
       "1    ...   1637.377987   1626.764793   1806.763930   1874.765634   \n",
       "2    ...   6230.297028   6346.395122   6772.528333   6980.423038   \n",
       "3    ...   9628.025783  10207.752350  10526.235450  10571.010650   \n",
       "4    ...  14127.778020  14518.827450  15423.465390  15824.780110   \n",
       "..   ...           ...           ...           ...           ...   \n",
       "255  ...   7782.875107   8222.285712   8547.652384   8903.763429   \n",
       "256  ...   4472.726448   3876.302619   3935.167105   4084.882967   \n",
       "257  ...  11728.160490  12179.174190  12488.215570  12815.727070   \n",
       "258  ...   3269.794329   3419.010460   3634.780353   3765.584162   \n",
       "259  ...   1888.566739   2168.110293   2534.541919   2583.985638   \n",
       "\n",
       "             2014          2015          2016          2017          2018  \\\n",
       "0    38223.372260  38249.054870  38390.271650  39454.629830           NaN   \n",
       "1     1897.525938   1886.692977   1896.992520   1934.636754   1955.006208   \n",
       "2     7199.245478   7096.600615   6756.935074   6650.584940   6452.355165   \n",
       "3    11259.225890  11662.030480  11868.178970  12930.140030  13364.155400   \n",
       "4    16153.244860  16501.792590  16935.383300  17099.889390  17570.137600   \n",
       "..            ...           ...           ...           ...           ...   \n",
       "255   9194.741819   9781.019679  10208.857900  10756.663460  11348.363450   \n",
       "256   4045.500031   3320.110156   2827.691023   2645.308383   2575.126385   \n",
       "257  13090.476830  13185.253280  13188.029620  13438.282890  13686.882360   \n",
       "258   3893.549478   3927.761816   3998.004435   4090.120040   4223.906936   \n",
       "259   2648.568967   2679.580317   2687.385429   2825.725122   3029.793005   \n",
       "\n",
       "     2019  \n",
       "0     NaN  \n",
       "1     NaN  \n",
       "2     NaN  \n",
       "3     NaN  \n",
       "4     NaN  \n",
       "..    ...  \n",
       "255   NaN  \n",
       "256   NaN  \n",
       "257   NaN  \n",
       "258   NaN  \n",
       "259   NaN  \n",
       "\n",
       "[260 rows x 32 columns]"
      ]
     },
     "execution_count": 8,
     "metadata": {},
     "output_type": "execute_result"
    }
   ],
   "source": [
    "import pandas as pd\n",
    "d=pd.read_csv('GDP.csv')\n",
    "d"
   ]
  },
  {
   "cell_type": "code",
   "execution_count": null,
   "metadata": {},
   "outputs": [],
   "source": []
  }
 ],
 "metadata": {
  "kernelspec": {
   "display_name": "Python 3",
   "language": "python",
   "name": "python3"
  },
  "language_info": {
   "codemirror_mode": {
    "name": "ipython",
    "version": 3
   },
   "file_extension": ".py",
   "mimetype": "text/x-python",
   "name": "python",
   "nbconvert_exporter": "python",
   "pygments_lexer": "ipython3",
   "version": "3.7.7"
  }
 },
 "nbformat": 4,
 "nbformat_minor": 4
}
