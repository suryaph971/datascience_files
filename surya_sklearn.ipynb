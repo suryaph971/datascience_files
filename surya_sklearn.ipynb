{
 "cells": [
  {
   "cell_type": "code",
   "execution_count": 1,
   "metadata": {},
   "outputs": [],
   "source": [
    "import numpy as np\n",
    "import pandas as pd"
   ]
  },
  {
   "cell_type": "code",
   "execution_count": 9,
   "metadata": {},
   "outputs": [
    {
     "data": {
      "text/plain": [
       "{'data': array([[5.1, 3.5, 1.4, 0.2],\n",
       "        [4.9, 3. , 1.4, 0.2],\n",
       "        [4.7, 3.2, 1.3, 0.2],\n",
       "        [4.6, 3.1, 1.5, 0.2],\n",
       "        [5. , 3.6, 1.4, 0.2],\n",
       "        [5.4, 3.9, 1.7, 0.4],\n",
       "        [4.6, 3.4, 1.4, 0.3],\n",
       "        [5. , 3.4, 1.5, 0.2],\n",
       "        [4.4, 2.9, 1.4, 0.2],\n",
       "        [4.9, 3.1, 1.5, 0.1],\n",
       "        [5.4, 3.7, 1.5, 0.2],\n",
       "        [4.8, 3.4, 1.6, 0.2],\n",
       "        [4.8, 3. , 1.4, 0.1],\n",
       "        [4.3, 3. , 1.1, 0.1],\n",
       "        [5.8, 4. , 1.2, 0.2],\n",
       "        [5.7, 4.4, 1.5, 0.4],\n",
       "        [5.4, 3.9, 1.3, 0.4],\n",
       "        [5.1, 3.5, 1.4, 0.3],\n",
       "        [5.7, 3.8, 1.7, 0.3],\n",
       "        [5.1, 3.8, 1.5, 0.3],\n",
       "        [5.4, 3.4, 1.7, 0.2],\n",
       "        [5.1, 3.7, 1.5, 0.4],\n",
       "        [4.6, 3.6, 1. , 0.2],\n",
       "        [5.1, 3.3, 1.7, 0.5],\n",
       "        [4.8, 3.4, 1.9, 0.2],\n",
       "        [5. , 3. , 1.6, 0.2],\n",
       "        [5. , 3.4, 1.6, 0.4],\n",
       "        [5.2, 3.5, 1.5, 0.2],\n",
       "        [5.2, 3.4, 1.4, 0.2],\n",
       "        [4.7, 3.2, 1.6, 0.2],\n",
       "        [4.8, 3.1, 1.6, 0.2],\n",
       "        [5.4, 3.4, 1.5, 0.4],\n",
       "        [5.2, 4.1, 1.5, 0.1],\n",
       "        [5.5, 4.2, 1.4, 0.2],\n",
       "        [4.9, 3.1, 1.5, 0.2],\n",
       "        [5. , 3.2, 1.2, 0.2],\n",
       "        [5.5, 3.5, 1.3, 0.2],\n",
       "        [4.9, 3.6, 1.4, 0.1],\n",
       "        [4.4, 3. , 1.3, 0.2],\n",
       "        [5.1, 3.4, 1.5, 0.2],\n",
       "        [5. , 3.5, 1.3, 0.3],\n",
       "        [4.5, 2.3, 1.3, 0.3],\n",
       "        [4.4, 3.2, 1.3, 0.2],\n",
       "        [5. , 3.5, 1.6, 0.6],\n",
       "        [5.1, 3.8, 1.9, 0.4],\n",
       "        [4.8, 3. , 1.4, 0.3],\n",
       "        [5.1, 3.8, 1.6, 0.2],\n",
       "        [4.6, 3.2, 1.4, 0.2],\n",
       "        [5.3, 3.7, 1.5, 0.2],\n",
       "        [5. , 3.3, 1.4, 0.2],\n",
       "        [7. , 3.2, 4.7, 1.4],\n",
       "        [6.4, 3.2, 4.5, 1.5],\n",
       "        [6.9, 3.1, 4.9, 1.5],\n",
       "        [5.5, 2.3, 4. , 1.3],\n",
       "        [6.5, 2.8, 4.6, 1.5],\n",
       "        [5.7, 2.8, 4.5, 1.3],\n",
       "        [6.3, 3.3, 4.7, 1.6],\n",
       "        [4.9, 2.4, 3.3, 1. ],\n",
       "        [6.6, 2.9, 4.6, 1.3],\n",
       "        [5.2, 2.7, 3.9, 1.4],\n",
       "        [5. , 2. , 3.5, 1. ],\n",
       "        [5.9, 3. , 4.2, 1.5],\n",
       "        [6. , 2.2, 4. , 1. ],\n",
       "        [6.1, 2.9, 4.7, 1.4],\n",
       "        [5.6, 2.9, 3.6, 1.3],\n",
       "        [6.7, 3.1, 4.4, 1.4],\n",
       "        [5.6, 3. , 4.5, 1.5],\n",
       "        [5.8, 2.7, 4.1, 1. ],\n",
       "        [6.2, 2.2, 4.5, 1.5],\n",
       "        [5.6, 2.5, 3.9, 1.1],\n",
       "        [5.9, 3.2, 4.8, 1.8],\n",
       "        [6.1, 2.8, 4. , 1.3],\n",
       "        [6.3, 2.5, 4.9, 1.5],\n",
       "        [6.1, 2.8, 4.7, 1.2],\n",
       "        [6.4, 2.9, 4.3, 1.3],\n",
       "        [6.6, 3. , 4.4, 1.4],\n",
       "        [6.8, 2.8, 4.8, 1.4],\n",
       "        [6.7, 3. , 5. , 1.7],\n",
       "        [6. , 2.9, 4.5, 1.5],\n",
       "        [5.7, 2.6, 3.5, 1. ],\n",
       "        [5.5, 2.4, 3.8, 1.1],\n",
       "        [5.5, 2.4, 3.7, 1. ],\n",
       "        [5.8, 2.7, 3.9, 1.2],\n",
       "        [6. , 2.7, 5.1, 1.6],\n",
       "        [5.4, 3. , 4.5, 1.5],\n",
       "        [6. , 3.4, 4.5, 1.6],\n",
       "        [6.7, 3.1, 4.7, 1.5],\n",
       "        [6.3, 2.3, 4.4, 1.3],\n",
       "        [5.6, 3. , 4.1, 1.3],\n",
       "        [5.5, 2.5, 4. , 1.3],\n",
       "        [5.5, 2.6, 4.4, 1.2],\n",
       "        [6.1, 3. , 4.6, 1.4],\n",
       "        [5.8, 2.6, 4. , 1.2],\n",
       "        [5. , 2.3, 3.3, 1. ],\n",
       "        [5.6, 2.7, 4.2, 1.3],\n",
       "        [5.7, 3. , 4.2, 1.2],\n",
       "        [5.7, 2.9, 4.2, 1.3],\n",
       "        [6.2, 2.9, 4.3, 1.3],\n",
       "        [5.1, 2.5, 3. , 1.1],\n",
       "        [5.7, 2.8, 4.1, 1.3],\n",
       "        [6.3, 3.3, 6. , 2.5],\n",
       "        [5.8, 2.7, 5.1, 1.9],\n",
       "        [7.1, 3. , 5.9, 2.1],\n",
       "        [6.3, 2.9, 5.6, 1.8],\n",
       "        [6.5, 3. , 5.8, 2.2],\n",
       "        [7.6, 3. , 6.6, 2.1],\n",
       "        [4.9, 2.5, 4.5, 1.7],\n",
       "        [7.3, 2.9, 6.3, 1.8],\n",
       "        [6.7, 2.5, 5.8, 1.8],\n",
       "        [7.2, 3.6, 6.1, 2.5],\n",
       "        [6.5, 3.2, 5.1, 2. ],\n",
       "        [6.4, 2.7, 5.3, 1.9],\n",
       "        [6.8, 3. , 5.5, 2.1],\n",
       "        [5.7, 2.5, 5. , 2. ],\n",
       "        [5.8, 2.8, 5.1, 2.4],\n",
       "        [6.4, 3.2, 5.3, 2.3],\n",
       "        [6.5, 3. , 5.5, 1.8],\n",
       "        [7.7, 3.8, 6.7, 2.2],\n",
       "        [7.7, 2.6, 6.9, 2.3],\n",
       "        [6. , 2.2, 5. , 1.5],\n",
       "        [6.9, 3.2, 5.7, 2.3],\n",
       "        [5.6, 2.8, 4.9, 2. ],\n",
       "        [7.7, 2.8, 6.7, 2. ],\n",
       "        [6.3, 2.7, 4.9, 1.8],\n",
       "        [6.7, 3.3, 5.7, 2.1],\n",
       "        [7.2, 3.2, 6. , 1.8],\n",
       "        [6.2, 2.8, 4.8, 1.8],\n",
       "        [6.1, 3. , 4.9, 1.8],\n",
       "        [6.4, 2.8, 5.6, 2.1],\n",
       "        [7.2, 3. , 5.8, 1.6],\n",
       "        [7.4, 2.8, 6.1, 1.9],\n",
       "        [7.9, 3.8, 6.4, 2. ],\n",
       "        [6.4, 2.8, 5.6, 2.2],\n",
       "        [6.3, 2.8, 5.1, 1.5],\n",
       "        [6.1, 2.6, 5.6, 1.4],\n",
       "        [7.7, 3. , 6.1, 2.3],\n",
       "        [6.3, 3.4, 5.6, 2.4],\n",
       "        [6.4, 3.1, 5.5, 1.8],\n",
       "        [6. , 3. , 4.8, 1.8],\n",
       "        [6.9, 3.1, 5.4, 2.1],\n",
       "        [6.7, 3.1, 5.6, 2.4],\n",
       "        [6.9, 3.1, 5.1, 2.3],\n",
       "        [5.8, 2.7, 5.1, 1.9],\n",
       "        [6.8, 3.2, 5.9, 2.3],\n",
       "        [6.7, 3.3, 5.7, 2.5],\n",
       "        [6.7, 3. , 5.2, 2.3],\n",
       "        [6.3, 2.5, 5. , 1.9],\n",
       "        [6.5, 3. , 5.2, 2. ],\n",
       "        [6.2, 3.4, 5.4, 2.3],\n",
       "        [5.9, 3. , 5.1, 1.8]]),\n",
       " 'target': array([0, 0, 0, 0, 0, 0, 0, 0, 0, 0, 0, 0, 0, 0, 0, 0, 0, 0, 0, 0, 0, 0,\n",
       "        0, 0, 0, 0, 0, 0, 0, 0, 0, 0, 0, 0, 0, 0, 0, 0, 0, 0, 0, 0, 0, 0,\n",
       "        0, 0, 0, 0, 0, 0, 1, 1, 1, 1, 1, 1, 1, 1, 1, 1, 1, 1, 1, 1, 1, 1,\n",
       "        1, 1, 1, 1, 1, 1, 1, 1, 1, 1, 1, 1, 1, 1, 1, 1, 1, 1, 1, 1, 1, 1,\n",
       "        1, 1, 1, 1, 1, 1, 1, 1, 1, 1, 1, 1, 2, 2, 2, 2, 2, 2, 2, 2, 2, 2,\n",
       "        2, 2, 2, 2, 2, 2, 2, 2, 2, 2, 2, 2, 2, 2, 2, 2, 2, 2, 2, 2, 2, 2,\n",
       "        2, 2, 2, 2, 2, 2, 2, 2, 2, 2, 2, 2, 2, 2, 2, 2, 2, 2]),\n",
       " 'frame': None,\n",
       " 'target_names': array(['setosa', 'versicolor', 'virginica'], dtype='<U10'),\n",
       " 'DESCR': '.. _iris_dataset:\\n\\nIris plants dataset\\n--------------------\\n\\n**Data Set Characteristics:**\\n\\n    :Number of Instances: 150 (50 in each of three classes)\\n    :Number of Attributes: 4 numeric, predictive attributes and the class\\n    :Attribute Information:\\n        - sepal length in cm\\n        - sepal width in cm\\n        - petal length in cm\\n        - petal width in cm\\n        - class:\\n                - Iris-Setosa\\n                - Iris-Versicolour\\n                - Iris-Virginica\\n                \\n    :Summary Statistics:\\n\\n    ============== ==== ==== ======= ===== ====================\\n                    Min  Max   Mean    SD   Class Correlation\\n    ============== ==== ==== ======= ===== ====================\\n    sepal length:   4.3  7.9   5.84   0.83    0.7826\\n    sepal width:    2.0  4.4   3.05   0.43   -0.4194\\n    petal length:   1.0  6.9   3.76   1.76    0.9490  (high!)\\n    petal width:    0.1  2.5   1.20   0.76    0.9565  (high!)\\n    ============== ==== ==== ======= ===== ====================\\n\\n    :Missing Attribute Values: None\\n    :Class Distribution: 33.3% for each of 3 classes.\\n    :Creator: R.A. Fisher\\n    :Donor: Michael Marshall (MARSHALL%PLU@io.arc.nasa.gov)\\n    :Date: July, 1988\\n\\nThe famous Iris database, first used by Sir R.A. Fisher. The dataset is taken\\nfrom Fisher\\'s paper. Note that it\\'s the same as in R, but not as in the UCI\\nMachine Learning Repository, which has two wrong data points.\\n\\nThis is perhaps the best known database to be found in the\\npattern recognition literature.  Fisher\\'s paper is a classic in the field and\\nis referenced frequently to this day.  (See Duda & Hart, for example.)  The\\ndata set contains 3 classes of 50 instances each, where each class refers to a\\ntype of iris plant.  One class is linearly separable from the other 2; the\\nlatter are NOT linearly separable from each other.\\n\\n.. topic:: References\\n\\n   - Fisher, R.A. \"The use of multiple measurements in taxonomic problems\"\\n     Annual Eugenics, 7, Part II, 179-188 (1936); also in \"Contributions to\\n     Mathematical Statistics\" (John Wiley, NY, 1950).\\n   - Duda, R.O., & Hart, P.E. (1973) Pattern Classification and Scene Analysis.\\n     (Q327.D83) John Wiley & Sons.  ISBN 0-471-22361-1.  See page 218.\\n   - Dasarathy, B.V. (1980) \"Nosing Around the Neighborhood: A New System\\n     Structure and Classification Rule for Recognition in Partially Exposed\\n     Environments\".  IEEE Transactions on Pattern Analysis and Machine\\n     Intelligence, Vol. PAMI-2, No. 1, 67-71.\\n   - Gates, G.W. (1972) \"The Reduced Nearest Neighbor Rule\".  IEEE Transactions\\n     on Information Theory, May 1972, 431-433.\\n   - See also: 1988 MLC Proceedings, 54-64.  Cheeseman et al\"s AUTOCLASS II\\n     conceptual clustering system finds 3 classes in the data.\\n   - Many, many more ...',\n",
       " 'feature_names': ['sepal length (cm)',\n",
       "  'sepal width (cm)',\n",
       "  'petal length (cm)',\n",
       "  'petal width (cm)'],\n",
       " 'filename': 'C:\\\\Users\\\\HP\\\\AppData\\\\Local\\\\Programs\\\\Python\\\\Python37\\\\Lib\\\\site-packages\\\\sklearn\\\\datasets\\\\data\\\\iris.csv'}"
      ]
     },
     "execution_count": 9,
     "metadata": {},
     "output_type": "execute_result"
    }
   ],
   "source": [
    "#load the data set\n",
    "from sklearn.datasets import load_iris\n",
    "\n",
    "df =load_iris()\n",
    "\n",
    "df"
   ]
  },
  {
   "cell_type": "code",
   "execution_count": 15,
   "metadata": {},
   "outputs": [
    {
     "name": "stdout",
     "output_type": "stream",
     "text": [
      "['sepal length (cm)', 'sepal width (cm)', 'petal length (cm)', 'petal width (cm)']\n"
     ]
    }
   ],
   "source": [
    "#print the feature of the dataset\n",
    "\n",
    "print(df['feature_names'])"
   ]
  },
  {
   "cell_type": "code",
   "execution_count": 18,
   "metadata": {},
   "outputs": [
    {
     "data": {
      "text/html": [
       "<div>\n",
       "<style scoped>\n",
       "    .dataframe tbody tr th:only-of-type {\n",
       "        vertical-align: middle;\n",
       "    }\n",
       "\n",
       "    .dataframe tbody tr th {\n",
       "        vertical-align: top;\n",
       "    }\n",
       "\n",
       "    .dataframe thead th {\n",
       "        text-align: right;\n",
       "    }\n",
       "</style>\n",
       "<table border=\"1\" class=\"dataframe\">\n",
       "  <thead>\n",
       "    <tr style=\"text-align: right;\">\n",
       "      <th></th>\n",
       "      <th>sepal length (cm)</th>\n",
       "      <th>sepal width (cm)</th>\n",
       "      <th>petal length (cm)</th>\n",
       "      <th>petal width (cm)</th>\n",
       "    </tr>\n",
       "  </thead>\n",
       "  <tbody>\n",
       "    <tr>\n",
       "      <th>0</th>\n",
       "      <td>5.1</td>\n",
       "      <td>3.5</td>\n",
       "      <td>1.4</td>\n",
       "      <td>0.2</td>\n",
       "    </tr>\n",
       "    <tr>\n",
       "      <th>1</th>\n",
       "      <td>4.9</td>\n",
       "      <td>3.0</td>\n",
       "      <td>1.4</td>\n",
       "      <td>0.2</td>\n",
       "    </tr>\n",
       "    <tr>\n",
       "      <th>2</th>\n",
       "      <td>4.7</td>\n",
       "      <td>3.2</td>\n",
       "      <td>1.3</td>\n",
       "      <td>0.2</td>\n",
       "    </tr>\n",
       "    <tr>\n",
       "      <th>3</th>\n",
       "      <td>4.6</td>\n",
       "      <td>3.1</td>\n",
       "      <td>1.5</td>\n",
       "      <td>0.2</td>\n",
       "    </tr>\n",
       "    <tr>\n",
       "      <th>4</th>\n",
       "      <td>5.0</td>\n",
       "      <td>3.6</td>\n",
       "      <td>1.4</td>\n",
       "      <td>0.2</td>\n",
       "    </tr>\n",
       "  </tbody>\n",
       "</table>\n",
       "</div>"
      ],
      "text/plain": [
       "   sepal length (cm)  sepal width (cm)  petal length (cm)  petal width (cm)\n",
       "0                5.1               3.5                1.4               0.2\n",
       "1                4.9               3.0                1.4               0.2\n",
       "2                4.7               3.2                1.3               0.2\n",
       "3                4.6               3.1                1.5               0.2\n",
       "4                5.0               3.6                1.4               0.2"
      ]
     },
     "execution_count": 18,
     "metadata": {},
     "output_type": "execute_result"
    }
   ],
   "source": [
    "#store data into data frame\n",
    "df_iris = pd.DataFrame(df.data)\n",
    "\n",
    "df_iris.columns = df.feature_names\n",
    "\n",
    "df_iris.head()"
   ]
  },
  {
   "cell_type": "code",
   "execution_count": 27,
   "metadata": {},
   "outputs": [
    {
     "data": {
      "text/plain": [
       "(150, 4)"
      ]
     },
     "execution_count": 27,
     "metadata": {},
     "output_type": "execute_result"
    }
   ],
   "source": [
    "df.data.shape"
   ]
  },
  {
   "cell_type": "code",
   "execution_count": 28,
   "metadata": {},
   "outputs": [
    {
     "data": {
      "text/plain": [
       "(150,)"
      ]
     },
     "execution_count": 28,
     "metadata": {},
     "output_type": "execute_result"
    }
   ],
   "source": [
    "#print dataset target or response shape\n",
    "\n",
    "df.target.shape"
   ]
  },
  {
   "cell_type": "code",
   "execution_count": 29,
   "metadata": {},
   "outputs": [
    {
     "data": {
      "text/plain": [
       "array([0, 0, 0, 0, 0, 0, 0, 0, 0, 0, 0, 0, 0, 0, 0, 0, 0, 0, 0, 0, 0, 0,\n",
       "       0, 0, 0, 0, 0, 0, 0, 0, 0, 0, 0, 0, 0, 0, 0, 0, 0, 0, 0, 0, 0, 0,\n",
       "       0, 0, 0, 0, 0, 0, 1, 1, 1, 1, 1, 1, 1, 1, 1, 1, 1, 1, 1, 1, 1, 1,\n",
       "       1, 1, 1, 1, 1, 1, 1, 1, 1, 1, 1, 1, 1, 1, 1, 1, 1, 1, 1, 1, 1, 1,\n",
       "       1, 1, 1, 1, 1, 1, 1, 1, 1, 1, 1, 1, 2, 2, 2, 2, 2, 2, 2, 2, 2, 2,\n",
       "       2, 2, 2, 2, 2, 2, 2, 2, 2, 2, 2, 2, 2, 2, 2, 2, 2, 2, 2, 2, 2, 2,\n",
       "       2, 2, 2, 2, 2, 2, 2, 2, 2, 2, 2, 2, 2, 2, 2, 2, 2, 2])"
      ]
     },
     "execution_count": 29,
     "metadata": {},
     "output_type": "execute_result"
    }
   ],
   "source": [
    "#view the target values\n",
    "\n",
    "df['target']"
   ]
  },
  {
   "cell_type": "code",
   "execution_count": 32,
   "metadata": {},
   "outputs": [],
   "source": [
    "# assign column A with the target values\n",
    "df_iris['A'] = df.target\n",
    "\n"
   ]
  },
  {
   "cell_type": "code",
   "execution_count": 33,
   "metadata": {},
   "outputs": [
    {
     "data": {
      "text/html": [
       "<div>\n",
       "<style scoped>\n",
       "    .dataframe tbody tr th:only-of-type {\n",
       "        vertical-align: middle;\n",
       "    }\n",
       "\n",
       "    .dataframe tbody tr th {\n",
       "        vertical-align: top;\n",
       "    }\n",
       "\n",
       "    .dataframe thead th {\n",
       "        text-align: right;\n",
       "    }\n",
       "</style>\n",
       "<table border=\"1\" class=\"dataframe\">\n",
       "  <thead>\n",
       "    <tr style=\"text-align: right;\">\n",
       "      <th></th>\n",
       "      <th>sepal length (cm)</th>\n",
       "      <th>sepal width (cm)</th>\n",
       "      <th>petal length (cm)</th>\n",
       "      <th>petal width (cm)</th>\n",
       "      <th>A</th>\n",
       "    </tr>\n",
       "  </thead>\n",
       "  <tbody>\n",
       "    <tr>\n",
       "      <th>0</th>\n",
       "      <td>5.1</td>\n",
       "      <td>3.5</td>\n",
       "      <td>1.4</td>\n",
       "      <td>0.2</td>\n",
       "      <td>0</td>\n",
       "    </tr>\n",
       "    <tr>\n",
       "      <th>1</th>\n",
       "      <td>4.9</td>\n",
       "      <td>3.0</td>\n",
       "      <td>1.4</td>\n",
       "      <td>0.2</td>\n",
       "      <td>0</td>\n",
       "    </tr>\n",
       "    <tr>\n",
       "      <th>2</th>\n",
       "      <td>4.7</td>\n",
       "      <td>3.2</td>\n",
       "      <td>1.3</td>\n",
       "      <td>0.2</td>\n",
       "      <td>0</td>\n",
       "    </tr>\n",
       "    <tr>\n",
       "      <th>3</th>\n",
       "      <td>4.6</td>\n",
       "      <td>3.1</td>\n",
       "      <td>1.5</td>\n",
       "      <td>0.2</td>\n",
       "      <td>0</td>\n",
       "    </tr>\n",
       "    <tr>\n",
       "      <th>4</th>\n",
       "      <td>5.0</td>\n",
       "      <td>3.6</td>\n",
       "      <td>1.4</td>\n",
       "      <td>0.2</td>\n",
       "      <td>0</td>\n",
       "    </tr>\n",
       "  </tbody>\n",
       "</table>\n",
       "</div>"
      ],
      "text/plain": [
       "   sepal length (cm)  sepal width (cm)  petal length (cm)  petal width (cm)  A\n",
       "0                5.1               3.5                1.4               0.2  0\n",
       "1                4.9               3.0                1.4               0.2  0\n",
       "2                4.7               3.2                1.3               0.2  0\n",
       "3                4.6               3.1                1.5               0.2  0\n",
       "4                5.0               3.6                1.4               0.2  0"
      ]
     },
     "execution_count": 33,
     "metadata": {},
     "output_type": "execute_result"
    }
   ],
   "source": [
    "df_iris.head()"
   ]
  },
  {
   "cell_type": "code",
   "execution_count": 34,
   "metadata": {},
   "outputs": [],
   "source": [
    "# assign features\n",
    "\n",
    "x_features  = df.data"
   ]
  },
  {
   "cell_type": "code",
   "execution_count": 35,
   "metadata": {},
   "outputs": [],
   "source": [
    "# assing target or response\n",
    "\n",
    "\n",
    "y_target =  df.target"
   ]
  },
  {
   "cell_type": "code",
   "execution_count": 36,
   "metadata": {},
   "outputs": [],
   "source": [
    "# import linear model - the estimator\n",
    "\n",
    "\n",
    "from sklearn.linear_model import LinearRegression\n",
    "linereg = LinearRegression()\n"
   ]
  },
  {
   "cell_type": "code",
   "execution_count": 37,
   "metadata": {},
   "outputs": [
    {
     "data": {
      "text/plain": [
       "LinearRegression()"
      ]
     },
     "execution_count": 37,
     "metadata": {},
     "output_type": "execute_result"
    }
   ],
   "source": [
    "# fit data into the estimator\n",
    "\n",
    "linereg.fit(x_features,y_target)"
   ]
  },
  {
   "cell_type": "code",
   "execution_count": 40,
   "metadata": {},
   "outputs": [
    {
     "name": "stdout",
     "output_type": "stream",
     "text": [
      "Intercept 0.19\n"
     ]
    }
   ],
   "source": [
    "#print the intercept\n",
    "\n",
    "print(\"Intercept %.2f\" %linereg.intercept_)"
   ]
  },
  {
   "cell_type": "code",
   "execution_count": 41,
   "metadata": {},
   "outputs": [
    {
     "name": "stdout",
     "output_type": "stream",
     "text": [
      "Coefficient 4 \n"
     ]
    }
   ],
   "source": [
    "#print the coefficient\n",
    "\n",
    "print(\"Coefficient %d \" %len(linereg.coef_))"
   ]
  },
  {
   "cell_type": "code",
   "execution_count": 45,
   "metadata": {},
   "outputs": [],
   "source": [
    "#train model split the data set into test and train datasets\n",
    "\n",
    "from sklearn import model_selection\n",
    "\n",
    "x_train,x_test,y_train,y_test = model_selection.train_test_split(x_features,y_target)\n",
    "\n"
   ]
  },
  {
   "cell_type": "code",
   "execution_count": 46,
   "metadata": {},
   "outputs": [
    {
     "name": "stdout",
     "output_type": "stream",
     "text": [
      "(112, 4) (38, 4) (112,) (38,)\n"
     ]
    }
   ],
   "source": [
    "print(x_train.shape,x_test.shape,y_train.shape,y_test.shape)"
   ]
  },
  {
   "cell_type": "code",
   "execution_count": 47,
   "metadata": {},
   "outputs": [
    {
     "data": {
      "text/plain": [
       "LinearRegression()"
      ]
     },
     "execution_count": 47,
     "metadata": {},
     "output_type": "execute_result"
    }
   ],
   "source": [
    "#fit the training sets into the model\n",
    "\n",
    "linereg.fit(x_train,y_train)"
   ]
  },
  {
   "cell_type": "code",
   "execution_count": 49,
   "metadata": {},
   "outputs": [
    {
     "name": "stdout",
     "output_type": "stream",
     "text": [
      "MSE 0.05\n"
     ]
    }
   ],
   "source": [
    "#Mean square error or regression sum of squares\n",
    "\n",
    "print(\"MSE %.2f\" %(np.mean((linereg.predict(x_test)-y_test)**2)))"
   ]
  },
  {
   "cell_type": "code",
   "execution_count": 50,
   "metadata": {},
   "outputs": [
    {
     "name": "stdout",
     "output_type": "stream",
     "text": [
      " variance 0.93\n"
     ]
    }
   ],
   "source": [
    "# calculate variance\n",
    "\n",
    "\n",
    "print(\" variance %.2f\" %(linereg.score(x_test,y_test)))"
   ]
  },
  {
   "cell_type": "code",
   "execution_count": null,
   "metadata": {},
   "outputs": [],
   "source": [
    "# logistic regression"
   ]
  },
  {
   "cell_type": "code",
   "execution_count": null,
   "metadata": {},
   "outputs": [],
   "source": [
    "import numpy as np\n",
    "import pandas as pd"
   ]
  },
  {
   "cell_type": "code",
   "execution_count": 52,
   "metadata": {},
   "outputs": [
    {
     "data": {
      "text/plain": [
       "sklearn.utils.Bunch"
      ]
     },
     "execution_count": 52,
     "metadata": {},
     "output_type": "execute_result"
    }
   ],
   "source": [
    "from sklearn.datasets import load_iris\n",
    "\n",
    "df = load_iris()\n",
    "\n",
    "type(df)"
   ]
  },
  {
   "cell_type": "code",
   "execution_count": 54,
   "metadata": {},
   "outputs": [
    {
     "data": {
      "text/plain": [
       "'.. _iris_dataset:\\n\\nIris plants dataset\\n--------------------\\n\\n**Data Set Characteristics:**\\n\\n    :Number of Instances: 150 (50 in each of three classes)\\n    :Number of Attributes: 4 numeric, predictive attributes and the class\\n    :Attribute Information:\\n        - sepal length in cm\\n        - sepal width in cm\\n        - petal length in cm\\n        - petal width in cm\\n        - class:\\n                - Iris-Setosa\\n                - Iris-Versicolour\\n                - Iris-Virginica\\n                \\n    :Summary Statistics:\\n\\n    ============== ==== ==== ======= ===== ====================\\n                    Min  Max   Mean    SD   Class Correlation\\n    ============== ==== ==== ======= ===== ====================\\n    sepal length:   4.3  7.9   5.84   0.83    0.7826\\n    sepal width:    2.0  4.4   3.05   0.43   -0.4194\\n    petal length:   1.0  6.9   3.76   1.76    0.9490  (high!)\\n    petal width:    0.1  2.5   1.20   0.76    0.9565  (high!)\\n    ============== ==== ==== ======= ===== ====================\\n\\n    :Missing Attribute Values: None\\n    :Class Distribution: 33.3% for each of 3 classes.\\n    :Creator: R.A. Fisher\\n    :Donor: Michael Marshall (MARSHALL%PLU@io.arc.nasa.gov)\\n    :Date: July, 1988\\n\\nThe famous Iris database, first used by Sir R.A. Fisher. The dataset is taken\\nfrom Fisher\\'s paper. Note that it\\'s the same as in R, but not as in the UCI\\nMachine Learning Repository, which has two wrong data points.\\n\\nThis is perhaps the best known database to be found in the\\npattern recognition literature.  Fisher\\'s paper is a classic in the field and\\nis referenced frequently to this day.  (See Duda & Hart, for example.)  The\\ndata set contains 3 classes of 50 instances each, where each class refers to a\\ntype of iris plant.  One class is linearly separable from the other 2; the\\nlatter are NOT linearly separable from each other.\\n\\n.. topic:: References\\n\\n   - Fisher, R.A. \"The use of multiple measurements in taxonomic problems\"\\n     Annual Eugenics, 7, Part II, 179-188 (1936); also in \"Contributions to\\n     Mathematical Statistics\" (John Wiley, NY, 1950).\\n   - Duda, R.O., & Hart, P.E. (1973) Pattern Classification and Scene Analysis.\\n     (Q327.D83) John Wiley & Sons.  ISBN 0-471-22361-1.  See page 218.\\n   - Dasarathy, B.V. (1980) \"Nosing Around the Neighborhood: A New System\\n     Structure and Classification Rule for Recognition in Partially Exposed\\n     Environments\".  IEEE Transactions on Pattern Analysis and Machine\\n     Intelligence, Vol. PAMI-2, No. 1, 67-71.\\n   - Gates, G.W. (1972) \"The Reduced Nearest Neighbor Rule\".  IEEE Transactions\\n     on Information Theory, May 1972, 431-433.\\n   - See also: 1988 MLC Proceedings, 54-64.  Cheeseman et al\"s AUTOCLASS II\\n     conceptual clustering system finds 3 classes in the data.\\n   - Many, many more ...'"
      ]
     },
     "execution_count": 54,
     "metadata": {},
     "output_type": "execute_result"
    }
   ],
   "source": [
    "df.DESCR"
   ]
  },
  {
   "cell_type": "code",
   "execution_count": 56,
   "metadata": {},
   "outputs": [],
   "source": [
    "# first use KNN algorithm (KNN classifier method)\n",
    "from sklearn.neighbors import KNeighborsClassifier"
   ]
  },
  {
   "cell_type": "code",
   "execution_count": 57,
   "metadata": {},
   "outputs": [
    {
     "data": {
      "text/plain": [
       "KNeighborsClassifier(n_neighbors=1)"
      ]
     },
     "execution_count": 57,
     "metadata": {},
     "output_type": "execute_result"
    }
   ],
   "source": [
    "# instantiate the KNN estimator\n",
    "knn =KNeighborsClassifier(n_neighbors=1)\n",
    "\n",
    "knn"
   ]
  },
  {
   "cell_type": "code",
   "execution_count": 58,
   "metadata": {},
   "outputs": [
    {
     "data": {
      "text/plain": [
       "KNeighborsClassifier(n_neighbors=1)"
      ]
     },
     "execution_count": 58,
     "metadata": {},
     "output_type": "execute_result"
    }
   ],
   "source": [
    "knn.fit(x_features,y_target)"
   ]
  },
  {
   "cell_type": "code",
   "execution_count": 59,
   "metadata": {},
   "outputs": [],
   "source": [
    "# create object with new values for prediction\n",
    "x_new = [[3,5,4,1],[5,3,4,2]]\n"
   ]
  },
  {
   "cell_type": "code",
   "execution_count": 60,
   "metadata": {},
   "outputs": [
    {
     "data": {
      "text/plain": [
       "array([1, 1])"
      ]
     },
     "execution_count": 60,
     "metadata": {},
     "output_type": "execute_result"
    }
   ],
   "source": [
    "#predict the outcome for the new observation using knn classifier\n",
    "knn.predict(x_new)"
   ]
  },
  {
   "cell_type": "code",
   "execution_count": 62,
   "metadata": {},
   "outputs": [],
   "source": [
    "#use logistic regression estimator\n",
    "\n",
    "from sklearn.linear_model import LogisticRegression\n",
    "\n",
    "logReg = LogisticRegression()"
   ]
  },
  {
   "cell_type": "code",
   "execution_count": 64,
   "metadata": {},
   "outputs": [
    {
     "name": "stderr",
     "output_type": "stream",
     "text": [
      "C:\\Users\\HP\\AppData\\Local\\Programs\\Python\\Python37\\Lib\\site-packages\\sklearn\\linear_model\\_logistic.py:764: ConvergenceWarning: lbfgs failed to converge (status=1):\n",
      "STOP: TOTAL NO. of ITERATIONS REACHED LIMIT.\n",
      "\n",
      "Increase the number of iterations (max_iter) or scale the data as shown in:\n",
      "    https://scikit-learn.org/stable/modules/preprocessing.html\n",
      "Please also refer to the documentation for alternative solver options:\n",
      "    https://scikit-learn.org/stable/modules/linear_model.html#logistic-regression\n",
      "  extra_warning_msg=_LOGISTIC_SOLVER_CONVERGENCE_MSG)\n"
     ]
    },
    {
     "data": {
      "text/plain": [
       "LogisticRegression()"
      ]
     },
     "execution_count": 64,
     "metadata": {},
     "output_type": "execute_result"
    }
   ],
   "source": [
    "logReg.fit(x_features,y_target)"
   ]
  },
  {
   "cell_type": "code",
   "execution_count": 65,
   "metadata": {},
   "outputs": [
    {
     "data": {
      "text/plain": [
       "array([0, 1])"
      ]
     },
     "execution_count": 65,
     "metadata": {},
     "output_type": "execute_result"
    }
   ],
   "source": [
    "#predict the output using logistic regression\n",
    "logReg.predict(x_new)"
   ]
  },
  {
   "cell_type": "code",
   "execution_count": null,
   "metadata": {},
   "outputs": [],
   "source": [
    "#unsupervised learning -clustering-kmeans algorithm"
   ]
  },
  {
   "cell_type": "code",
   "execution_count": null,
   "metadata": {},
   "outputs": [],
   "source": [
    "import numpy as np\n",
    "import pandas as pd\n"
   ]
  },
  {
   "cell_type": "code",
   "execution_count": 81,
   "metadata": {},
   "outputs": [
    {
     "data": {
      "text/plain": [
       "array([2, 0, 2, 1, 2, 2, 1, 0, 1, 1, 2, 1, 2, 1, 2, 0, 2, 0, 0, 2, 0, 2,\n",
       "       2, 0, 2, 1, 1, 1, 2, 1, 1, 0, 2, 2, 0, 1, 1, 1, 0, 0, 0, 0, 2, 1,\n",
       "       2, 1, 0, 2, 1, 0, 2, 1, 1, 2, 2, 2, 2, 0, 0, 0, 0, 0, 1, 0, 0, 2,\n",
       "       1, 0, 1, 2, 2, 2, 0, 0, 1, 2, 2, 0, 2, 2, 1, 2, 1, 2, 1, 0, 1, 0,\n",
       "       1, 0, 1, 1, 0, 0, 2, 2, 2, 0, 2, 2, 1, 2, 0, 1, 1, 2, 1, 1, 1, 1,\n",
       "       2, 1, 2, 1, 1, 0, 1, 2, 0, 0, 0, 0, 2, 2, 0, 2, 0, 0, 0, 0, 1, 0,\n",
       "       1, 0, 1, 2, 2, 0, 2, 2, 0, 0, 1, 2, 0, 0, 2, 0, 0, 0, 0, 0, 1, 1,\n",
       "       1, 0, 2, 0, 0, 1, 1, 0, 0, 0, 1, 2, 2, 2, 2, 1, 1, 2, 1, 2, 0, 2,\n",
       "       1, 2, 2, 2, 2, 2, 0, 1, 1, 1, 0, 1, 1, 1, 2, 0, 1, 1, 0, 2, 2, 2,\n",
       "       2, 0, 0, 0, 1, 2, 1, 1, 0, 2, 2, 0, 0, 0, 2, 1, 0, 1, 1, 0, 0, 0,\n",
       "       0, 2, 1, 2, 1, 2, 0, 1, 0, 1, 2, 0, 2, 2, 2, 1, 2, 0, 1, 1, 2, 0,\n",
       "       0, 1, 0, 1, 2, 2, 1, 1, 0, 2, 2, 1, 2, 0, 0, 2, 1, 0, 1, 1, 1, 1,\n",
       "       0, 0, 1, 1, 1, 2, 2, 0, 1, 2, 1, 1, 0, 0, 2, 0, 1, 2, 1, 1, 2, 1,\n",
       "       1, 0, 0, 2, 1, 2, 0, 1, 0, 2, 0, 2, 2, 1])"
      ]
     },
     "execution_count": 81,
     "metadata": {},
     "output_type": "execute_result"
    }
   ],
   "source": [
    "from sklearn.cluster import KMeans\n",
    "\n",
    "from sklearn.datasets import make_blobs\n",
    "\n",
    " # no.of samples\n",
    "n_samples = 300 \n",
    "# random state value to initialize the center\n",
    "random_state=20 \n",
    "# defining number of features as 5\n",
    "x,y = make_blobs(n_samples=n_samples,n_features=5,random_state=None)\n",
    "\n",
    "predict_y =KMeans(n_clusters=3,random_state=random_state).fit_predict(x)\n",
    "\n",
    "predict_y\n"
   ]
  },
  {
   "cell_type": "code",
   "execution_count": 94,
   "metadata": {},
   "outputs": [
    {
     "name": "stdout",
     "output_type": "stream",
     "text": [
      "[0.53003545 0.43273173 0.00582657]\n",
      "[ 0.32414182 -0.1968084   0.12003367 -0.29452281 -0.37265359 -0.10988552\n",
      " -0.02119432 -0.16813139 -0.22227741 -0.72524246]\n",
      "[[ 1.57701200e+01 -4.85244123e+00  7.29640514e-01]\n",
      " [-2.15418282e+00  1.30271045e+01 -9.10377300e-02]\n",
      " [ 1.21031758e+01 -4.02256468e+00 -2.96153816e+00]\n",
      " [-1.22748509e+01 -8.41124597e+00  3.14923287e-01]\n",
      " [ 1.37439008e+01 -3.84758818e+00 -2.28039420e+00]\n",
      " [-1.88475195e-01  1.42406678e+01 -6.10733068e-01]\n",
      " [-2.83417737e+00  1.23828863e+01 -6.22446087e-01]\n",
      " [ 1.34458448e+01 -5.58981677e+00 -1.42044336e+00]\n",
      " [ 1.49965943e+01 -5.36675688e+00  1.30882317e-01]\n",
      " [-4.04340357e+00  1.27565427e+01  1.60172539e-01]\n",
      " [-1.04473393e+01 -7.14881860e+00 -3.55793635e-01]\n",
      " [-1.23624835e+01 -9.15619653e+00 -4.88885808e-01]\n",
      " [ 1.30874745e+01 -4.50067757e+00  1.05058051e+00]\n",
      " [ 1.42105447e+01 -5.77948634e+00 -1.38880802e-01]\n",
      " [ 1.42849722e+01 -2.78108542e+00  1.51134099e+00]\n",
      " [ 1.35762447e+01 -5.04600615e+00  3.61510740e-01]\n",
      " [-1.52634752e+00  1.39304078e+01  1.86895152e+00]\n",
      " [-1.12648099e+01 -8.97309176e+00 -1.00251133e+00]\n",
      " [ 1.39947141e+01 -4.80222966e+00  1.77026777e+00]\n",
      " [-1.24435901e+01 -6.98799682e+00 -1.31251694e+00]\n",
      " [-8.43460916e-01  1.11607048e+01 -3.55277857e-02]\n",
      " [ 1.26204237e+01 -3.96072528e+00  3.72764112e-01]\n",
      " [-2.39896277e+00  1.36803140e+01  4.77640140e-01]\n",
      " [-2.97746805e+00  1.48678699e+01  1.45674950e+00]\n",
      " [-1.22205193e+01 -8.24058986e+00 -7.70796885e-01]\n",
      " [-1.27806992e+01 -8.30840842e+00  1.04211103e-02]\n",
      " [-3.44975463e+00  1.21504838e+01  1.37201950e+00]\n",
      " [-2.44134911e+00  1.43666219e+01  2.46813201e+00]\n",
      " [-1.20239007e+01 -8.01036292e+00  1.75796209e-01]\n",
      " [-1.08556631e+01 -8.70760514e+00 -6.27431671e-01]\n",
      " [-1.28888610e+00  1.38354846e+01 -1.54490360e+00]\n",
      " [-1.41086297e+00  1.26129638e+01 -1.24589413e+00]\n",
      " [ 1.43054983e+01 -3.70126433e+00 -7.39054705e-01]\n",
      " [-1.07961296e+01 -7.23840935e+00  2.11411118e+00]\n",
      " [-1.10725940e+01 -9.81669969e+00  2.35611845e+00]\n",
      " [-3.62820923e+00  1.29420634e+01  9.78784915e-01]\n",
      " [-2.74548225e+00  1.40224701e+01 -2.11555702e-01]\n",
      " [-1.23376695e+01 -9.47691138e+00  5.59213213e-01]\n",
      " [-3.34736317e+00  1.47431552e+01  4.67934480e-01]\n",
      " [-2.98156392e+00  1.37707397e+01 -1.24999072e+00]\n",
      " [-2.44573389e+00  1.26694532e+01  9.21263486e-02]\n",
      " [-1.17805914e+01 -9.26021085e+00  9.79574972e-01]\n",
      " [-1.08845571e+01 -9.13047216e+00 -1.28413596e-01]\n",
      " [-1.05797569e+01 -9.47151804e+00 -1.12196925e-01]\n",
      " [ 1.59892177e+01 -3.68524694e+00  1.07388799e+00]\n",
      " [ 2.32184865e-01  1.46294404e+01 -1.80603816e+00]\n",
      " [ 1.55472247e+01 -4.74022307e+00  8.39252748e-01]\n",
      " [-3.74591631e+00  1.48279249e+01  2.36758746e-01]\n",
      " [ 1.41174529e+01 -4.21663986e+00 -9.59050443e-01]\n",
      " [ 1.52948863e+01 -3.08773305e+00 -6.17760153e-01]\n",
      " [-1.20928740e+01 -7.85266865e+00 -1.21175491e+00]\n",
      " [-1.30332568e+01 -8.03970640e+00 -9.99356198e-03]\n",
      " [ 1.45124149e+01 -4.29599975e+00 -1.23696537e-01]\n",
      " [ 1.23838615e+01 -3.14293873e+00  1.38777577e-01]\n",
      " [-4.39029778e-01  1.59456595e+01  6.81952789e-01]\n",
      " [-3.91960578e+00  1.24900912e+01 -4.24187917e-01]\n",
      " [-1.33846977e+01 -9.49938757e+00  2.81522468e-01]\n",
      " [ 1.34318142e+01 -5.73075853e+00  7.38824156e-01]\n",
      " [-1.39793686e+00  1.34488628e+01 -1.51780063e+00]\n",
      " [-1.03205048e+01 -9.06107476e+00  1.39967930e+00]\n",
      " [ 1.31997827e+01 -6.69316516e+00 -1.09260983e+00]\n",
      " [-3.12219496e+00  1.49535755e+01 -8.04177205e-01]\n",
      " [-1.30200884e+01 -9.13564080e+00  4.40417899e-01]\n",
      " [-1.20305111e+01 -9.26120795e+00 -1.46930821e+00]\n",
      " [ 1.47401885e+01 -4.52112202e+00  6.57158575e-01]\n",
      " [-1.08156255e+01 -8.26374560e+00 -3.57038596e-01]\n",
      " [-1.29557145e+01 -7.13635173e+00 -4.96581071e-01]\n",
      " [ 1.32174022e+01 -4.99062206e+00 -3.60830210e-01]\n",
      " [ 1.05654562e-02  1.40638952e+01  4.93869832e-01]\n",
      " [-1.08040755e+01 -8.17433344e+00 -5.82781536e-01]\n",
      " [ 1.47047594e+01 -6.30787454e+00 -1.72977330e+00]\n",
      " [-1.84100535e+00  1.53246167e+01  7.24406847e-01]\n",
      " [-2.59790139e+00  1.29714764e+01  9.09144961e-01]\n",
      " [-3.28463939e+00  1.28231488e+01 -1.70445502e+00]\n",
      " [ 1.46681698e+01 -4.17657754e+00  2.31457655e+00]\n",
      " [-9.14647126e+00 -1.03493555e+01  9.40312402e-01]\n",
      " [-1.95173051e+00  1.24673391e+01 -2.19363399e+00]\n",
      " [-3.08362703e+00  1.35702542e+01 -1.47238674e+00]\n",
      " [-1.16459389e+00  1.35454639e+01  9.05770788e-01]\n",
      " [ 1.50575924e+01 -5.23089192e+00 -7.79347822e-01]\n",
      " [-1.30279908e+01 -7.24160985e+00  7.61445929e-01]\n",
      " [-1.09229558e+01 -8.10548447e+00 -9.77611985e-01]\n",
      " [-1.96126675e+00  1.29852631e+01 -1.10081861e+00]\n",
      " [-1.09882823e+01 -6.68050165e+00 -4.26161266e-01]\n",
      " [ 1.50824705e+01 -5.39786649e+00  1.18674585e-01]\n",
      " [ 1.44131987e+01 -4.99761898e+00 -1.81842596e+00]\n",
      " [-1.10314437e+01 -5.97451253e+00 -5.31057486e-02]\n",
      " [-2.16526523e+00  1.43843786e+01 -1.36675490e-01]\n",
      " [-1.20827813e+01 -7.22665934e+00 -4.01128345e-01]\n",
      " [ 1.35309750e+01 -4.57985693e+00  2.19399391e-01]\n",
      " [-1.09861761e+01 -6.91775533e+00 -1.67004048e+00]\n",
      " [-9.18224614e-01  1.53107239e+01  1.28371638e+00]\n",
      " [ 1.42000077e+01 -6.12860476e+00  1.33758234e+00]\n",
      " [-2.60561908e+00  1.26576613e+01  1.51396434e+00]\n",
      " [-4.45362134e+00  1.34363713e+01  1.14626056e+00]\n",
      " [ 1.35095148e+01 -4.10577775e+00  8.80917917e-01]\n",
      " [-1.89834766e+00  1.55044378e+01  6.92651400e-01]\n",
      " [-9.64698478e+00 -9.72262624e+00  2.16146876e-01]\n",
      " [ 1.47716635e+01 -5.16909439e+00 -2.51262334e-01]\n",
      " [-1.30318045e+01 -9.72197642e+00 -1.19642195e+00]\n",
      " [-2.35603992e+00  1.38612471e+01  2.71351173e-01]\n",
      " [-2.40290701e+00  1.34980035e+01 -9.46465970e-01]\n",
      " [ 1.38949796e+01 -5.08246051e+00 -5.22710111e-01]\n",
      " [ 1.58512667e+01 -4.53969397e+00 -1.03344969e+00]\n",
      " [ 1.51870256e+01 -4.39533442e+00 -2.78168442e+00]\n",
      " [-2.11129999e+00  1.20864346e+01  2.36648790e-01]\n",
      " [-1.07526466e+01 -8.69889123e+00 -2.23572535e+00]\n",
      " [-1.34659928e+01 -8.44063636e+00  1.31242872e+00]\n",
      " [-1.17367443e+01 -8.88488572e+00  5.48141557e-01]\n",
      " [ 1.35024302e+01 -3.68451184e+00 -7.35712672e-01]\n",
      " [-3.10576830e+00  1.32761598e+01 -1.58397044e+00]\n",
      " [-1.18772720e+01 -8.06041797e+00 -9.82880239e-01]\n",
      " [ 1.30095958e+01 -7.01768740e+00  1.70421222e-01]\n",
      " [-1.24268792e+01 -8.51632482e+00  1.22029566e+00]\n",
      " [-1.17027074e+01 -9.11059808e+00 -1.14148603e+00]\n",
      " [-1.20123921e+00  1.35619355e+01 -2.26978414e+00]\n",
      " [-2.26615849e+00  1.24004748e+01  2.28918926e+00]\n",
      " [-1.65063160e+00  1.40666954e+01  4.89080450e-02]\n",
      " [ 1.32046523e+01 -6.89455955e+00 -1.60182174e+00]\n",
      " [-1.06411680e+01 -9.69622351e+00 -1.94259219e+00]\n",
      " [-1.87361991e+00  1.32188585e+01  4.58379486e-01]\n",
      " [ 1.41195325e+01 -4.64692726e+00 -5.13693412e-01]\n",
      " [ 1.28715371e+01 -3.98584939e+00 -6.52179918e-01]\n",
      " [ 1.39987142e+01 -2.75853235e+00  2.61847294e-01]\n",
      " [-1.20365471e+01 -7.91412266e+00 -2.76754697e-01]\n",
      " [-3.73936977e+00  1.47168608e+01 -2.13330972e+00]\n",
      " [ 1.16312069e+01 -4.13477381e+00 -1.60908220e+00]\n",
      " [-1.29971651e+00  1.25660979e+01 -5.68588647e-01]\n",
      " [ 1.47419745e+01 -3.68415186e+00  7.70319550e-01]\n",
      " [-1.09267044e+01 -8.95348663e+00  1.71733365e+00]\n",
      " [-1.26103897e+01 -7.58234724e+00 -4.57873450e-01]\n",
      " [-9.38953499e-01  1.57836105e+01  3.73134199e-01]\n",
      " [-2.57628173e+00  1.21516140e+01  1.18751245e+00]\n",
      " [-1.11923948e+01 -8.52079378e+00  4.93542899e-01]\n",
      " [ 1.26971254e+01 -4.17351259e+00 -4.98712926e-01]\n",
      " [-1.36560362e+01 -7.30858020e+00 -4.65421403e-02]\n",
      " [-1.75986304e+00  1.18269094e+01 -8.55445854e-01]\n",
      " [-4.08441933e+00  1.21517110e+01 -3.00979801e-01]\n",
      " [-1.20628401e+01 -8.18821259e+00 -8.70792356e-01]\n",
      " [-1.17469020e+01 -8.68595858e+00 -1.60931663e+00]\n",
      " [-1.23614589e+01 -9.42630249e+00 -7.05210955e-01]\n",
      " [-1.20584821e+01 -8.69052227e+00  2.59360483e-01]\n",
      " [-1.02894448e+01 -1.02157625e+01  4.32237412e-01]\n",
      " [-1.35420810e+01 -7.35464346e+00  4.58045438e-01]\n",
      " [-1.45102263e+00  1.35814645e+01 -4.85123497e-01]\n",
      " [ 1.43754943e+01 -4.23924626e+00 -4.45252110e-01]\n",
      " [-1.65567939e+00  1.40831096e+01 -1.28367109e+00]\n",
      " [-2.74064669e+00  1.60171335e+01  1.54272177e-01]\n",
      " [ 1.43757087e+01 -5.91999010e+00 -1.33851260e+00]\n",
      " [ 1.46050612e+01 -5.63544459e+00  1.17216798e-01]\n",
      " [ 1.34313903e+01 -4.97664950e+00  1.08076346e+00]\n",
      " [-1.13225892e+01 -8.30116838e+00  1.60776879e+00]\n",
      " [-2.21396648e+00  1.53458454e+01 -1.94772687e-01]\n",
      " [-1.02410644e+01 -7.58072853e+00 -1.00779797e+00]\n",
      " [ 1.51666249e+01 -5.05310018e+00 -1.47588182e+00]\n",
      " [-8.58681618e-01  1.19055938e+01  3.67823753e-02]\n",
      " [-2.20987570e+00  1.31427683e+01  1.35584601e-01]\n",
      " [ 1.24067741e+01 -6.75558034e+00 -2.30007389e+00]\n",
      " [ 1.34732813e+01 -4.21426524e+00  3.20094571e-01]\n",
      " [-1.02852760e+01 -8.84010979e+00  1.99653555e-01]\n",
      " [ 1.47123295e+01 -4.51955731e+00  6.03810485e-01]\n",
      " [-1.24820831e+01 -8.31535820e+00 -6.62833074e-01]\n",
      " [ 1.32581635e+01 -6.69587296e+00  1.64068027e+00]\n",
      " [ 1.51423347e+01 -4.64126426e+00  1.78205435e+00]\n",
      " [-1.15083314e+01 -8.77946597e+00 -8.11695344e-01]\n",
      " [-1.09698265e+01 -8.08679656e+00  3.41596013e-01]\n",
      " [-1.24564592e+01 -1.06984516e+01 -5.06297734e-02]\n",
      " [-1.16941077e+01 -9.48859037e+00 -5.78897891e-01]\n",
      " [-2.86049786e+00  1.25728877e+01  1.07427761e+00]\n",
      " [ 1.52204573e+01 -8.59106368e+00  6.80223610e-01]\n",
      " [ 1.29413867e+01 -7.87908506e+00  7.67007293e-01]\n",
      " [-2.46441759e+00  1.30502572e+01  1.34285238e+00]\n",
      " [ 1.35188585e+01 -3.81863050e+00  2.71089510e-01]\n",
      " [-1.16263063e+01 -1.06352293e+01 -4.01813279e-01]\n",
      " [-4.24316928e-01  1.35724679e+01  4.64046012e-01]\n",
      " [ 1.50153680e+01 -6.07475011e+00  1.09285426e+00]\n",
      " [-3.77629142e+00  1.20753864e+01 -1.52777931e+00]\n",
      " [-9.50020798e-01  1.48120850e+01  9.70991521e-01]\n",
      " [ 1.50801014e+01 -4.39084828e+00  6.57110684e-01]\n",
      " [-1.24107694e+01 -7.76079981e+00  1.76461694e+00]\n",
      " [ 1.58548892e+01 -4.05813495e+00 -8.97797269e-01]\n",
      " [-1.93392583e+00  1.43863823e+01  1.19910626e-01]\n",
      " [-3.18110943e+00  1.23430188e+01 -1.03428155e+00]\n",
      " [ 1.30837525e+01 -4.80827587e+00 -1.35484416e+00]\n",
      " [ 1.53041134e+01 -5.64859071e+00 -2.02487690e+00]\n",
      " [-3.47858835e+00  1.35281640e+01 -2.06826859e+00]\n",
      " [-1.29921207e+01 -8.51170563e+00 -1.48625667e+00]\n",
      " [-1.24435982e+01 -9.37136647e+00 -3.68727018e-01]\n",
      " [-4.01727865e+00  1.42530379e+01 -1.32670247e-01]\n",
      " [-3.96309332e+00  1.34578394e+01 -6.89981481e-01]\n",
      " [-3.42800415e+00  1.31692794e+01  1.79717979e+00]\n",
      " [-1.28792703e+01 -8.61490755e+00  8.95970661e-01]\n",
      " [-1.21169060e+01 -9.12514811e+00 -1.79022154e-01]\n",
      " [ 1.49649080e+01 -3.94236572e+00 -1.50349185e+00]\n",
      " [ 1.60436338e+01 -5.13902897e+00  2.99175076e+00]\n",
      " [ 1.48987161e+01 -5.96813249e+00  6.77742652e-01]\n",
      " [-1.15765609e+01 -8.71694861e+00  1.13699834e+00]\n",
      " [-3.58368988e+00  1.39156306e+01 -8.24079117e-01]\n",
      " [-1.17936494e+01 -9.20260247e+00 -1.03499605e+00]\n",
      " [-1.98976226e+00  1.41420657e+01  3.97238775e-01]\n",
      " [ 1.40907741e+01 -5.01269439e+00 -2.87564485e-01]\n",
      " [-2.07811140e+00  1.30009169e+01 -1.40553856e+00]\n",
      " [-4.41553929e+00  1.33731563e+01  5.39463144e-01]\n",
      " [-1.23866238e+01 -9.37576536e+00  6.47230079e-01]\n",
      " [-5.25627388e+00  1.51275316e+01 -1.25017404e+00]\n",
      " [-1.69603354e+00  1.21993998e+01 -9.79896587e-01]\n",
      " [-2.94893230e+00  1.31494218e+01  1.87644687e+00]\n",
      " [ 1.40371865e+01 -3.39663918e+00 -5.37173736e-01]\n",
      " [ 1.48482017e+01 -4.08237826e+00  1.24225404e+00]\n",
      " [-1.22127131e+01 -9.94590683e+00  1.13320180e+00]\n",
      " [ 1.43442586e+01 -4.56215158e+00 -7.52959796e-01]\n",
      " [-2.35281048e+00  1.48425722e+01  1.13376898e+00]\n",
      " [ 1.59503557e+01 -4.92219526e+00 -5.76212613e-02]\n",
      " [-1.58926803e+00  1.14150210e+01  2.66114813e+00]\n",
      " [ 1.27424541e+01 -3.87870664e+00  1.42833503e+00]\n",
      " [-2.61899111e+00  1.54284731e+01 -9.00012556e-02]\n",
      " [-1.06008016e+01 -8.40580540e+00 -2.10855742e+00]\n",
      " [ 1.43476837e+01 -5.53165065e+00  6.76739984e-01]\n",
      " [ 1.44715648e+01 -4.72590586e+00 -1.65229542e+00]\n",
      " [-1.02593786e+01 -9.60150756e+00 -1.81113497e-01]\n",
      " [-1.12568522e+01 -9.00783360e+00  2.38065457e+00]\n",
      " [-1.48129891e+00  1.28185793e+01 -3.45469408e-01]\n",
      " [-3.61006796e+00  1.29117367e+01 -8.64364048e-01]\n",
      " [-1.22714785e+01 -9.63346296e+00  7.02210107e-01]\n",
      " [-6.23268579e-01  1.36200879e+01  7.74785875e-02]\n",
      " [-1.28847157e+01 -9.15079525e+00 -3.25648206e-01]\n",
      " [-4.38260613e+00  1.21749762e+01  2.29391307e-01]\n",
      " [-1.13265181e+01 -9.29378230e+00  1.66456871e-01]\n",
      " [-1.63685448e+00  1.32606729e+01 -3.75767667e-01]\n",
      " [-2.65268698e+00  1.13520547e+01  1.92989993e+00]\n",
      " [-1.33454089e+01 -9.29061736e+00 -8.38484106e-01]\n",
      " [-3.57882146e+00  1.49171507e+01 -7.43037691e-01]\n",
      " [ 1.28728270e+01 -5.12461971e+00  8.80784150e-01]\n",
      " [-1.22218255e+01 -9.98016630e+00  3.47060038e-02]\n",
      " [-2.80383980e+00  1.23502708e+01  4.62976543e-02]\n",
      " [ 1.44826172e+01 -5.12328606e+00  6.42506663e-01]\n",
      " [-1.14533763e+01 -1.08392515e+01  1.52213555e+00]\n",
      " [-9.72822435e+00 -9.08864516e+00  2.20022010e-01]\n",
      " [ 1.50880235e+01 -3.90058015e+00  1.41276254e+00]\n",
      " [-1.18264529e+01 -9.28053909e+00  7.84613494e-01]\n",
      " [-1.10413685e+01 -8.37469816e+00 -7.66622600e-01]\n",
      " [ 1.51940946e+01 -4.65143585e+00  1.60078749e+00]\n",
      " [-2.76739209e+00  1.25973966e+01  1.33156229e+00]\n",
      " [ 1.31599605e+01 -7.00542948e+00  8.70143819e-01]\n",
      " [ 1.21189120e+01 -3.95435645e+00  5.73366005e-03]\n",
      " [ 1.43432975e+01 -4.99958657e+00  3.64928715e-01]\n",
      " [ 1.23101257e+01 -4.20111105e+00 -6.83839597e-01]\n",
      " [ 1.46271940e+01 -4.29920129e+00  4.84269841e-01]\n",
      " [-1.04398566e+01 -6.63649181e+00  1.24226326e-01]\n",
      " [-3.24816500e+00  1.36548199e+01 -1.21440733e-01]\n",
      " [ 1.37508972e+01 -4.91120632e+00  4.02050306e-01]\n",
      " [-1.23623306e+01 -1.04176051e+01 -1.36353756e+00]\n",
      " [-2.57467910e+00  1.36589057e+01  4.80184498e-01]\n",
      " [ 1.55025194e+01 -5.65552266e+00  2.80080712e-01]\n",
      " [-1.19368478e+01 -9.38371605e+00  1.28173882e+00]\n",
      " [-1.20252526e+01 -8.67174531e+00  2.53967209e+00]\n",
      " [-3.19964011e+00  1.42580482e+01  1.30789687e+00]\n",
      " [ 1.49270777e+01 -4.40929621e+00 -2.15009066e+00]\n",
      " [-1.11340110e+01 -7.49304343e+00  5.20739048e-01]\n",
      " [ 1.50871193e+01 -5.21435190e+00  5.73063985e-02]\n",
      " [ 1.30942380e+01 -5.05677243e+00  3.98568478e-01]\n",
      " [-1.30354357e+01 -6.93319958e+00 -9.17644499e-01]\n",
      " [ 1.35123508e+01 -5.03303034e+00 -5.76174016e-01]\n",
      " [-1.17577291e+01 -9.62002481e+00  2.99700769e-01]\n",
      " [-3.40196539e+00  1.23353595e+01  5.27219884e-01]\n",
      " [ 1.47554463e+01 -4.27073055e+00  1.18025087e+00]\n",
      " [ 1.30500975e+01 -4.37289835e+00 -6.93473174e-01]\n",
      " [-2.55968692e+00  1.26986070e+01  7.22240596e-01]\n",
      " [ 1.33968524e+01 -4.57826908e+00  1.41800585e+00]\n",
      " [-2.45865887e+00  1.43589245e+01 -1.62978247e+00]\n",
      " [-1.11503955e+01 -6.36392991e+00 -2.58747501e-01]\n",
      " [-1.32910781e+01 -1.03952434e+01  9.86181706e-01]\n",
      " [-1.23833093e+01 -7.73255647e+00 -1.31830063e-01]\n",
      " [-1.13801917e+01 -8.99051929e+00 -5.72833948e-02]\n",
      " [-3.37422488e+00  1.37346609e+01  1.30242249e+00]\n",
      " [ 1.40078809e+01 -5.54482026e+00  1.08210816e+00]\n",
      " [-1.17866408e+01 -7.77644542e+00 -1.67549731e+00]\n",
      " [-1.09425384e+01 -8.38082053e+00 -2.93788626e-01]\n",
      " [-1.28260247e+01 -8.46676410e+00  1.00440444e+00]\n",
      " [-1.11195783e+01 -9.80853634e+00  6.84136245e-01]\n",
      " [-2.00541226e+00  1.44563742e+01 -8.09394076e-01]\n",
      " [-1.28966954e+01 -9.04559601e+00  5.05664458e-01]\n",
      " [ 1.41377572e+01 -5.75429422e+00 -1.23034772e+00]\n",
      " [-3.25905570e+00  1.37717478e+01  5.89722783e-01]\n",
      " [-1.43697664e+00  1.35890787e+01 -8.34546460e-01]\n",
      " [-9.94726959e+00 -1.02456004e+01 -2.74533793e+00]\n",
      " [ 1.39805878e+01 -4.89061510e+00 -3.97709933e-01]\n",
      " [-1.83532163e+00  1.23689697e+01 -1.22494614e+00]\n",
      " [ 1.39097340e+01 -4.83601105e+00 -8.30997492e-01]\n",
      " [ 1.47536816e+01 -3.39390378e+00  3.27236708e-01]\n",
      " [-1.18511602e+01 -6.89546324e+00  3.73614621e+00]\n",
      " [ 1.61114824e+01 -3.99620876e+00  2.10958421e-01]\n",
      " [ 1.28566699e+01 -3.30541865e+00  1.95937539e+00]\n",
      " [ 1.60014224e+01 -5.49075589e+00 -2.86161838e-01]\n",
      " [-1.23912375e+01 -6.45845373e+00 -1.09896713e-01]\n",
      " [-2.34688108e+00  1.30745271e+01  1.70994300e+00]\n",
      " [ 1.41708615e+01 -6.41444472e+00  2.20871942e+00]\n",
      " [ 1.45970393e+01 -6.15338558e+00 -9.66120160e-01]\n",
      " [-2.97217560e+00  1.33208034e+01 -9.51002971e-02]\n",
      " [-1.19617959e+00  1.31949532e+01 -8.48224014e-01]]\n",
      "(300, 3)\n"
     ]
    }
   ],
   "source": [
    "#PCA (Principal component Analysis) -Dimension reduction\n",
    "\n",
    "\n",
    "import numpy as np\n",
    "import pandas as pd\n",
    "\n",
    "from sklearn.decomposition import PCA\n",
    "\n",
    "from sklearn.datasets import make_blobs\n",
    "\n",
    "# define sample and random state\n",
    "\n",
    "n_sample =20\n",
    "\n",
    "random_state=20\n",
    "\n",
    "\n",
    "#generate the dataset with 10 features\n",
    "\n",
    "x,y = make_blobs(n_samples=n_samples,n_features=10,random_state=None)\n",
    "\n",
    "#define the PCA estimator with no of reduced components\n",
    "\n",
    "pca = PCA(n_components=3)\n",
    "\n",
    "#fit the data into the estimator\n",
    "\n",
    "pca.fit(x)\n",
    "\n",
    "print(pca.explained_variance_ratio_,end=\"\\n\")\n",
    "\n",
    "\n",
    "#print the first pca components\n",
    "\n",
    "first_pca = pca.components_[0]\n",
    "\n",
    "print(first_pca,end=\"\\n\")\n",
    "\n",
    "\n",
    "#transform the fitted data\n",
    "\n",
    "\n",
    "pca_reduced = pca.transform(x)\n",
    "\n",
    "\n",
    "print(pca_reduced,end=\"\\n\")\n",
    "\n",
    "\n",
    "print(pca_reduced.shape)"
   ]
  },
  {
   "cell_type": "code",
   "execution_count": null,
   "metadata": {},
   "outputs": [],
   "source": [
    "#pipeline"
   ]
  },
  {
   "cell_type": "code",
   "execution_count": 99,
   "metadata": {},
   "outputs": [
    {
     "data": {
      "text/plain": [
       "[('dim_reduction', PCA()), ('linear_model', LinearRegression())]"
      ]
     },
     "execution_count": 99,
     "metadata": {},
     "output_type": "execute_result"
    }
   ],
   "source": [
    "import numpy as np\n",
    "import pandas as pd\n",
    "\n",
    "#import pipeline\n",
    "\n",
    "from sklearn.pipeline import Pipeline\n",
    "\n",
    "#import linear estimator\n",
    "\n",
    "from sklearn.linear_model import LinearRegression\n",
    "\n",
    "#import PCA estimator\n",
    "\n",
    "from sklearn.decomposition import PCA\n",
    "\n",
    "\n",
    "\n",
    "#chain the estimators together\n",
    "\n",
    "estimator = [('dim_reduction',PCA()),('linear_model',LinearRegression())]\n",
    "\n",
    "#put the chain of estimators into a pipeline object\n",
    "\n",
    "\n",
    "pipeobject = Pipeline(estimator)\n",
    "\n",
    "pipeobject\n",
    "\n",
    "#view the first step\n",
    "\n",
    "pipeobject.steps[0]\n",
    "\n",
    "\n",
    "#view the second step\n",
    "\n",
    "pipeobject.steps[1]\n",
    "\n",
    "#view all the steps in the pipeline\n",
    "\n",
    "pipeobject.steps"
   ]
  },
  {
   "cell_type": "code",
   "execution_count": null,
   "metadata": {},
   "outputs": [],
   "source": [
    "#Model persistance and evaluation"
   ]
  },
  {
   "cell_type": "code",
   "execution_count": 100,
   "metadata": {},
   "outputs": [
    {
     "name": "stderr",
     "output_type": "stream",
     "text": [
      "C:\\Users\\HP\\AppData\\Local\\Programs\\Python\\Python37\\Lib\\site-packages\\sklearn\\linear_model\\_logistic.py:764: ConvergenceWarning: lbfgs failed to converge (status=1):\n",
      "STOP: TOTAL NO. of ITERATIONS REACHED LIMIT.\n",
      "\n",
      "Increase the number of iterations (max_iter) or scale the data as shown in:\n",
      "    https://scikit-learn.org/stable/modules/preprocessing.html\n",
      "Please also refer to the documentation for alternative solver options:\n",
      "    https://scikit-learn.org/stable/modules/linear_model.html#logistic-regression\n",
      "  extra_warning_msg=_LOGISTIC_SOLVER_CONVERGENCE_MSG)\n"
     ]
    },
    {
     "data": {
      "text/plain": [
       "LogisticRegression()"
      ]
     },
     "execution_count": 100,
     "metadata": {},
     "output_type": "execute_result"
    }
   ],
   "source": [
    "import numpy as np\n",
    "import pandas as pd\n",
    "\n",
    "from sklearn.datasets import load_iris\n",
    "\n",
    "df = load_iris()\n",
    "\n",
    "x_features = df.data\n",
    "y_targets = df.target\n",
    "\n",
    "#create the new object for prediction\n",
    "\n",
    "x_new = [[3,5,4,1],[5,3,4,2]]\n",
    "\n",
    "from sklearn.linear_model import LogisticRegression\n",
    "\n",
    "logReg = LogisticRegression()\n",
    "\n",
    "logReg.fit(x_features,y_targets)"
   ]
  },
  {
   "cell_type": "code",
   "execution_count": 101,
   "metadata": {},
   "outputs": [
    {
     "data": {
      "text/plain": [
       "array([0, 1])"
      ]
     },
     "execution_count": 101,
     "metadata": {},
     "output_type": "execute_result"
    }
   ],
   "source": [
    "predict_y = logReg.predict(x_new)\n",
    "\n",
    "predict_y"
   ]
  },
  {
   "cell_type": "code",
   "execution_count": 102,
   "metadata": {},
   "outputs": [
    {
     "data": {
      "text/plain": [
       "b'\\x80\\x03csklearn.linear_model._logistic\\nLogisticRegression\\nq\\x00)\\x81q\\x01}q\\x02(X\\x07\\x00\\x00\\x00penaltyq\\x03X\\x02\\x00\\x00\\x00l2q\\x04X\\x04\\x00\\x00\\x00dualq\\x05\\x89X\\x03\\x00\\x00\\x00tolq\\x06G?\\x1a6\\xe2\\xeb\\x1cC-X\\x01\\x00\\x00\\x00Cq\\x07G?\\xf0\\x00\\x00\\x00\\x00\\x00\\x00X\\r\\x00\\x00\\x00fit_interceptq\\x08\\x88X\\x11\\x00\\x00\\x00intercept_scalingq\\tK\\x01X\\x0c\\x00\\x00\\x00class_weightq\\nNX\\x0c\\x00\\x00\\x00random_stateq\\x0bNX\\x06\\x00\\x00\\x00solverq\\x0cX\\x05\\x00\\x00\\x00lbfgsq\\rX\\x08\\x00\\x00\\x00max_iterq\\x0eKdX\\x0b\\x00\\x00\\x00multi_classq\\x0fX\\x04\\x00\\x00\\x00autoq\\x10X\\x07\\x00\\x00\\x00verboseq\\x11K\\x00X\\n\\x00\\x00\\x00warm_startq\\x12\\x89X\\x06\\x00\\x00\\x00n_jobsq\\x13NX\\x08\\x00\\x00\\x00l1_ratioq\\x14NX\\x0e\\x00\\x00\\x00n_features_in_q\\x15K\\x04X\\x08\\x00\\x00\\x00classes_q\\x16cnumpy.core.multiarray\\n_reconstruct\\nq\\x17cnumpy\\nndarray\\nq\\x18K\\x00\\x85q\\x19C\\x01bq\\x1a\\x87q\\x1bRq\\x1c(K\\x01K\\x03\\x85q\\x1dcnumpy\\ndtype\\nq\\x1eX\\x02\\x00\\x00\\x00i4q\\x1f\\x89\\x88\\x87q Rq!(K\\x03X\\x01\\x00\\x00\\x00<q\"NNNJ\\xff\\xff\\xff\\xffJ\\xff\\xff\\xff\\xffK\\x00tq#b\\x89C\\x0c\\x00\\x00\\x00\\x00\\x01\\x00\\x00\\x00\\x02\\x00\\x00\\x00q$tq%bX\\x05\\x00\\x00\\x00coef_q&h\\x17h\\x18K\\x00\\x85q\\'h\\x1a\\x87q(Rq)(K\\x01K\\x03K\\x04\\x86q*h\\x1eX\\x02\\x00\\x00\\x00f8q+\\x89\\x88\\x87q,Rq-(K\\x03h\"NNNJ\\xff\\xff\\xff\\xffJ\\xff\\xff\\xff\\xffK\\x00tq.b\\x89C`\\x9f\\x8aw\\xa3\\x10\\xd8\\xda\\xbf\\x91g\\xec{\\xb5\\xf5\\xee?jN\\xf4\\xce!*\\x04\\xc0c`\\x158fY\\xf1\\xbf\\xc03\\xb0\\xb0\\xda\\x01\\xe1?\\x88\\xee\\x84\\xcdH)\\xd4\\xbf\\xee\\x14\\xf1\\xb6\\xb7\\xb8\\xc9\\xbfS3[\\xdc\\xccT\\xee\\xbf\\xecy\\xa3\\xf7\\x92\\xae\\xbc\\xbf\\xdf\\xf0)\\x15\\x11\\xe1\\xe4\\xbf\\xac_cJ\\xad\\xc5\\x05@\\x0c}!S\\xe6A\\x00@q/tq0bX\\n\\x00\\x00\\x00intercept_q1h\\x17h\\x18K\\x00\\x85q2h\\x1a\\x87q3Rq4(K\\x01K\\x03\\x85q5h-\\x89C\\x18\\xa0`\\x93\\x92\\x08\\xaf#@VA\\xfeF\\xcc\\xc0\\x01@\\xdf\\xefR\\xa4;\\x1f(\\xc0q6tq7bX\\x07\\x00\\x00\\x00n_iter_q8h\\x17h\\x18K\\x00\\x85q9h\\x1a\\x87q:Rq;(K\\x01K\\x01\\x85q<h!\\x89C\\x04d\\x00\\x00\\x00q=tq>bX\\x10\\x00\\x00\\x00_sklearn_versionq?X\\x06\\x00\\x00\\x000.23.1q@ub.'"
      ]
     },
     "execution_count": 102,
     "metadata": {},
     "output_type": "execute_result"
    }
   ],
   "source": [
    "#import lib for model persistance\n",
    "\n",
    "\n",
    "import pickle as pkl\n",
    "\n",
    "\n",
    "#use dumps method to persist the model\n",
    "\n",
    "\n",
    "persist_model = pkl.dumps(logReg)\n",
    "\n",
    "\n",
    "persist_model"
   ]
  },
  {
   "cell_type": "code",
   "execution_count": 104,
   "metadata": {},
   "outputs": [
    {
     "data": {
      "text/plain": [
       "['regresfilename.pkl']"
      ]
     },
     "execution_count": 104,
     "metadata": {},
     "output_type": "execute_result"
    }
   ],
   "source": [
    "#use joblib.dump to persist the model to a file\n",
    "import joblib\n",
    "\n",
    "joblib.dump(logReg,'regresfilename.pkl')"
   ]
  },
  {
   "cell_type": "code",
   "execution_count": 106,
   "metadata": {},
   "outputs": [
    {
     "data": {
      "text/plain": [
       "LogisticRegression()"
      ]
     },
     "execution_count": 106,
     "metadata": {},
     "output_type": "execute_result"
    }
   ],
   "source": [
    "#use joblib.load to persist the model to a file\n",
    "\n",
    "new_estimator=joblib.load('regresfilename.pkl')\n",
    "\n",
    "new_estimator"
   ]
  },
  {
   "cell_type": "code",
   "execution_count": null,
   "metadata": {},
   "outputs": [],
   "source": []
  }
 ],
 "metadata": {
  "kernelspec": {
   "display_name": "Python 3",
   "language": "python",
   "name": "python3"
  },
  "language_info": {
   "codemirror_mode": {
    "name": "ipython",
    "version": 3
   },
   "file_extension": ".py",
   "mimetype": "text/x-python",
   "name": "python",
   "nbconvert_exporter": "python",
   "pygments_lexer": "ipython3",
   "version": "3.7.7"
  }
 },
 "nbformat": 4,
 "nbformat_minor": 4
}
